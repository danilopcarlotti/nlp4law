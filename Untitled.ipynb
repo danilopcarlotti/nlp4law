{
 "cells": [
  {
   "cell_type": "code",
   "execution_count": 3,
   "metadata": {},
   "outputs": [],
   "source": [
    "from docx import Document"
   ]
  },
  {
   "cell_type": "code",
   "execution_count": 4,
   "metadata": {},
   "outputs": [],
   "source": [
    "minuta_master = \"\"\"\n",
    "Juiz da vara X\n",
    "\n",
    "Brumadinho, XXX\n",
    "\n",
    "Processo nº {}\n",
    "\n",
    "Com base nos fatos alegados por {}, tendo em vista o entendimento Y,\n",
    "\"\"\"\n",
    "Versao1 = \"decido pelo indeferimento da inversão do ônus da prova\"\n",
    "Versao2 = \"decido pelo deferimento da inversão do ônus da prova\""
   ]
  },
  {
   "cell_type": "code",
   "execution_count": 6,
   "metadata": {
    "scrolled": true
   },
   "outputs": [
    {
     "name": "stdin",
     "output_type": "stream",
     "text": [
      "Qual a minuta devo usar? 2\n"
     ]
    }
   ],
   "source": [
    "res = int(input(\"Qual a minuta devo usar?\"))\n",
    "if res == 1:\n",
    "    minuta = Versao1\n",
    "elif res == 2:\n",
    "    minuta = Versao2"
   ]
  },
  {
   "cell_type": "code",
   "execution_count": 7,
   "metadata": {},
   "outputs": [
    {
     "name": "stdin",
     "output_type": "stream",
     "text": [
      "Qual o número do processo? 123\n"
     ]
    }
   ],
   "source": [
    "numero_processo = input(\"Qual o número do processo?\")"
   ]
  },
  {
   "cell_type": "code",
   "execution_count": 8,
   "metadata": {},
   "outputs": [
    {
     "name": "stdin",
     "output_type": "stream",
     "text": [
      "Qual o nome da parte joao\n"
     ]
    }
   ],
   "source": [
    "nome_parte = input(\"Qual o nome da parte\")"
   ]
  },
  {
   "cell_type": "code",
   "execution_count": 9,
   "metadata": {},
   "outputs": [],
   "source": [
    "doc = Document()\n",
    "doc.add_paragraph(minuta_master.format(numero_processo, nome_parte)+minuta)\n",
    "doc.save(\"Exemplo fantástico.docx\")"
   ]
  },
  {
   "cell_type": "code",
   "execution_count": null,
   "metadata": {},
   "outputs": [],
   "source": []
  }
 ],
 "metadata": {
  "kernelspec": {
   "display_name": "Python 3",
   "language": "python",
   "name": "python3"
  },
  "language_info": {
   "codemirror_mode": {
    "name": "ipython",
    "version": 3
   },
   "file_extension": ".py",
   "mimetype": "text/x-python",
   "name": "python",
   "nbconvert_exporter": "python",
   "pygments_lexer": "ipython3",
   "version": "3.8.5"
  }
 },
 "nbformat": 4,
 "nbformat_minor": 4
}
