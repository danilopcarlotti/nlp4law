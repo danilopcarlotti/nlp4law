{
 "cells": [
  {
   "cell_type": "markdown",
   "metadata": {},
   "source": [
    "# CLUSTERING WITH KMEANS\n",
    "\n",
    "- The objective is to find k clusters of similar documents given a certain corpus\n",
    "- The main analysis are:\n",
    " - Find the texts closest to the center of each cluster and manually read them for insight\n",
    " - Measure the density of each cluster and how far apart they are from one another\n",
    " - The distribution of texts in each class (if the texts are already classified)"
   ]
  },
  {
   "cell_type": "code",
   "execution_count": 1,
   "metadata": {},
   "outputs": [],
   "source": [
    "from collections import Counter\n",
    "from sklearn.cluster import KMeans\n",
    "from sklearn.metrics import pairwise_distances_argmin_min\n",
    "from sklearn.preprocessing import MinMaxScaler\n",
    "from sklearn.metrics.cluster import homogeneity_score\n",
    "\n",
    "from scipy.spatial.distance import cosine as f_dist\n",
    "\n",
    "import numpy as np"
   ]
  },
  {
   "cell_type": "code",
   "execution_count": 2,
   "metadata": {},
   "outputs": [],
   "source": [
    "def cluster_items(\n",
    "    X: np.array, items: list, y : list = [], n_clusters: int = 10, to_scale: bool = True\n",
    "):\n",
    "    \"\"\"\n",
    "    Returns a list of tuples (item, number of similar items)\n",
    "    from a X matrix and a list of items\n",
    "    \"\"\"\n",
    "    if to_scale:\n",
    "        scaler = MinMaxScaler()\n",
    "        X = scaler.fit_transform(X)\n",
    "    kmeans_model = KMeans(n_clusters=n_clusters, random_state=0).fit(X)\n",
    "    labels_dict = Counter(kmeans_model.labels_)\n",
    "    if len(y):\n",
    "        hom_score = homogeneity_score(y, kmeans_model.labels_)\n",
    "    else:\n",
    "        hom_score = -1\n",
    "    total = len(X)\n",
    "    closest, _ = pairwise_distances_argmin_min(kmeans_model.cluster_centers_, X)\n",
    "    return [(items[i], \"{:.2f}%\".format(100*(labels_dict[kmeans_model.labels_[i]]/total))) for i in set(closest)], hom_score"
   ]
  },
  {
   "cell_type": "code",
   "execution_count": 3,
   "metadata": {},
   "outputs": [],
   "source": [
    "def statistics_arrays(X, Y):\n",
    "    rows = []\n",
    "    for row_x in X:\n",
    "        for row_y in Y:\n",
    "            value = 1 - f_dist(row_x, row_y)\n",
    "            rows.append(value)\n",
    "    mean_sim = np.mean(rows)\n",
    "    std_sim = np.std(rows)\n",
    "    results = {\n",
    "        \"mean_sim_vectors\": mean_sim,\n",
    "        \"lower_bound_sim\": mean_sim - (2 * std_sim),\n",
    "        \"upper_bound_sim\": mean_sim + (2 * std_sim),\n",
    "    }\n",
    "    return results"
   ]
  },
  {
   "cell_type": "markdown",
   "metadata": {},
   "source": [
    "### LOAD DATA"
   ]
  },
  {
   "cell_type": "code",
   "execution_count": 4,
   "metadata": {},
   "outputs": [],
   "source": [
    "import pandas as pd\n",
    "import re\n",
    "from pathlib import Path\n",
    "\n",
    "df = pd.read_csv(Path().absolute().parent.parent / \"data/text_class_8k.csv\")"
   ]
  },
  {
   "cell_type": "code",
   "execution_count": 5,
   "metadata": {},
   "outputs": [],
   "source": [
    "new_rows = []\n",
    "for row in df.to_dict(\"records\"):\n",
    "    if re.search(r\"alienação fiduciária\", row[\"text\"], flags=re.I|re.S):\n",
    "        new_rows.append(row)\n",
    "df = pd.DataFrame(new_rows)"
   ]
  },
  {
   "cell_type": "code",
   "execution_count": 6,
   "metadata": {},
   "outputs": [],
   "source": [
    "import sys\n",
    "from pathlib import Path\n",
    "\n",
    "sys.path.insert(0, str(Path().absolute().parent.parent))\n",
    "\n",
    "from src.text_vectorization import hashing_texts\n",
    "\n",
    "X = hashing_texts(df[\"text\"], 2**14)"
   ]
  },
  {
   "cell_type": "code",
   "execution_count": 7,
   "metadata": {},
   "outputs": [
    {
     "data": {
      "text/plain": [
       "(268, 16384)"
      ]
     },
     "execution_count": 7,
     "metadata": {},
     "output_type": "execute_result"
    }
   ],
   "source": [
    "import numpy as np\n",
    "\n",
    "np.shape(X)"
   ]
  },
  {
   "cell_type": "markdown",
   "metadata": {},
   "source": [
    "## EXPLORATORY ANALYSIS"
   ]
  },
  {
   "cell_type": "raw",
   "metadata": {},
   "source": [
    "%%time\n",
    "print(statistics_arrays(X,X))"
   ]
  },
  {
   "cell_type": "code",
   "execution_count": 11,
   "metadata": {},
   "outputs": [
    {
     "name": "stdout",
     "output_type": "stream",
     "text": [
      "Wall time: 2.32 s\n"
     ]
    }
   ],
   "source": [
    "%%time\n",
    "list_main_texts_freq, hom_score = cluster_items(X, df[\"text\"].tolist())"
   ]
  },
  {
   "cell_type": "code",
   "execution_count": 12,
   "metadata": {},
   "outputs": [
    {
     "data": {
      "text/plain": [
       "-1"
      ]
     },
     "execution_count": 12,
     "metadata": {},
     "output_type": "execute_result"
    }
   ],
   "source": [
    "hom_score"
   ]
  },
  {
   "cell_type": "code",
   "execution_count": 13,
   "metadata": {
    "scrolled": true
   },
   "outputs": [
    {
     "data": {
      "text/plain": [
       "[('N. 0710981-54.2019.8.07.0020 - BUSCA E APREENSÃO EM ALIENAÇÃO FIDUCIÁRIA - A: AYMORE CREDITO, FINANCIAMENTO E INVESTIMENTO S.A.. Adv(s).: DF0034392S - MARCO ANTONIO CRESPO BARBOSA. R: ADEMILDE COSTA DE MESQUITA. Adv(s).: Nao Consta Advogado. Poder Judiciário da União TRIBUNAL DE JUSTIÇA DO DISTRITO FEDERAL E DOS TERRITÓRIOS 3VACIVAGCL 3ª Vara Cível de Águas Claras Número do processo: 0710981-54.2019.8.07.0020 Classe judicial: BUSCA E APREENSÃO EM ALIENAÇÃO FIDUCIÁRIA (81) AUTOR: AYMORE CREDITO, FINANCIAMENTO E INVESTIMENTO S.A. RÉU: ADEMILDE COSTA DE MESQUITA SENTENÇA Homologo o pedido de desistência formulado pela parte autora e extingo o processo, sem resolução de mérito, nos termos do inciso VIII do artigo 485 do CPC. Eventuais custas finais pela parte autora. Sem honorários advocatícios, em razão de a relação processual não ter se aperfeiçoado. Publicada esta sentença, independente de certidão emitida pela secretaria, fica desde já certificado o trânsito em julgado, diante da ausência de interesse recursal no presente caso. Sentença registrada eletronicamente nesta data. Publique-se. Intime-se. Oportunamente, arquivem-se os autos, com as cautelas de estilo. Águas Claras, DF, 11 de setembro de 2019 11:20:25. PALOMA FERNANDES RODRIGUES BARBOSA Juíza de Direito',\n",
       "  '10.82%'),\n",
       " ('N. 0707419-85.2019.8.07.0004 - BUSCA E APREENSÃO EM ALIENAÇÃO FIDUCIÁRIA - A: AYMORE CREDITO, FINANCIAMENTO E INVESTIMENTO S.A.. Adv(s).: DF0028317S - FLAVIO NEVES COSTA. R: IONEIDE DA SILVA RIBEIRO. Adv(s).: Nao Consta Advogado. Poder Judiciário da União TRIBUNAL DE JUSTIÇA DO DISTRITO FEDERAL E DOS TERRITÓRIOS 1VARCIVGAM 1ª Vara Cível do Gama Número do processo: 0707419-85.2019.8.07.0004 Classe judicial: BUSCA E APREENSÃO EM ALIENAÇÃO FIDUCIÁRIA (81) AUTOR: AYMORE CREDITO, FINANCIAMENTO E INVESTIMENTO S.A. RÉU: IONEIDE DA SILVA RIBEIRO DECISÃO INTERLOCUTÓRIA COM FORÇA DE MANDADO IONEIDE DA SILVA RIBEIRO (CPF: 880.887.901-15); Nome: IONEIDE DA SILVA RIBEIRO Endereço: Quadra 8 Conjunto C, 8, Setor Sul (Gama), BRASÍLIA - DF - CEP: 72415-403 Bem objeto da ação: Cuida-se de pedido de busca e apreensão de veículo financiado mediante alienação fiduciária em garantia. Há, nos autos, prova do contrato celebrado entre as partes e da mora do devedor. Destarte, vencidas as obrigações e rescindido de pleno direito o contrato, estão presentes os pressupostos elencados pela legislação de regência (art. 3° do Decreto-Lei n° 911/69). Ante o exposto, DEFIRO A LIMINAR PARA DETERMINAR A BUSCA E APREENSÃO do bem mencionado na peça de ingresso, em favor do autor, na pessoa de um dos seus fiéis depositários, cujos dados pessoais deverão ser anotados, ficando ciente de que não poderá remover o bem para outra unidade da federação, no prazo de purga da mora. A parte requerida deverá pagar a integralidade da dívida, nos moldes da planilha apresentada pela parte autora (total das parcelas vencidas e vincendas, consideradas vencidas antecipadamente), no prazo de 05 (cinco) dias, contados a partir da execução da liminar, oportunidade em que o bem lhe será restituído e/ou apresentar resposta no prazo de 15 (quinze) dias. Não havendo o referido pagamento, a propriedade e a posse plena e exclusiva do bem serão consolidados nas mãos da autora (art. 3º, § 1°, do DL nº 911/69). Após a apreensão, cite-se a(o) ré(u) para apresentar resposta, no prazo de 15 (quinze) dias, a contar da execução da liminar, nos termos do § 3º, do art. 3º, do citado diploma legal. CASO O VEÍCULO NÃO SEJA APREENDIDO: Frustrada a diligência no endereço que aduz a inicial e fim de esgotar as medidas ao alcance deste juízo, DEFIRO, desde já, a consulta aos bancos de dados das instituições financeiras, DETRAN e TRE/DF, via sistemas BACENJUD, RENAJUD, SIEL, ERIDF e INFOSEG, no intuito de localizar o endereço atualizado da parte requerida e, consequentemente, apreender o veículo. CONVERSÃO EM EXECUÇÃO. Todavia, frustradas as diligências acima determinadas nos eventuais novos endereços encontrados, intime-se a parte autora para que converta a presente ação em ação de execução, conforme disposto nos artigos 4º do Decreto-Lei nº 911/69, no prazo de 10 dias. Pena de extinção do feito por falta de pressuposto e interesse processual. RESTRIÇÃO RENAJUD. Anote-se a restrição judicial na base de dados do RENAVAM, via RENAJUD. Cumprida a liminar, libere-se a aludida restrição independentemente de nova conclusão. CONFIRO À DECISÃO FORÇA DE MANDADO. Proceda o(a) oficial(a) de justiça, em favor da parte Autora, a BUSCA E APREENSÃO do bem descrito acima. E após, CITE o requerido, no endereço acima indicado, para tomar ciência da presente ação e, querendo, contestá-la. Fica autorizada a requisição de força policial e arrombamento, bem como a realização da diligência em horário especial. DEPOSITÁRIOS INDICADOS PELA AUTORA: ADVERTÊNCIAS PARA O SR. OFICIAL DE JUSTIÇA: 1- O Oficial de Justiça deverá certificar o nome do fiel depositário, telefone e o endereço para onde o(s) bem(ns) será levado e se o(a) requerido(a) foi localizado(a). 2- Feita a busca e apreensão, o(a) Sr.(a) Oficial de Justiça deverá proceder à avaliação e vistoria do(s) bem(ns). 3- Não sendo localizado o bem, deverá certificar se o réu foi encontrado no endereço e se está na posse do bem, nos termos do art. 4º do DL n.º 911/69. 4- A presente ordem poderá ser cumprida em qualquer local onde se encontrar o veículo. ADVERTÊNCIAS PARA AS PARTES: 1- O prazo para o 1349 Edição nº 177/2019 Brasília - DF, disponibilização sexta-feira, 13 de setembro de 2019 (a) requerido (a) pagar a integralidade da dívida, conforme os valores apresentados na cópia anexa, é de 05 (cinco) dias, a partir da execução da liminar, o que dará o direito de ter o bem(ns) restituído(s). 2- O prazo para apresentar defesa,sob pena de serem considerados verdadeiros os fatos alegados pelo requerente, é de 15 (quinze) dias, contados da data da execução da liminar. A resposta poderá ser apresentada ainda que tenha pago a integralidade da dívida. 3- Fica o(a) Requerente advertido (a) de que sendo o pedido julgado improcedente ocorrerá o disposto nos §§ 6º e 7º do art. 3º do Decreto-Lei 911/69, com a redação dada com a Lei 10.931/04. 4- A parte citada deverá constituir advogado ou Defensor Público, sendo que a Defensoria Pública funciona no Segundo Andar deste Fórum. 5- Fica a autora advertida do que o bem não poderá sair do DF sem prévia comunicação deste Juízo a fim de eventual restituição em caso de pagamento da dívida. 1ª Vara Cível do Gama da Circunscrição do Gama EQ 1/2, sala s/n, 3 andar, ala A, Setor Norte (Gama), BRASÍLIA - DF - CEP: 72430-900 Horário de funcionamento: 12h00 as 19h00. BRASÍLIA, DF, 11 de setembro de 2019 19:07:43. ADRIANA MARIA DE FREITAS TAPETY Juiz de Direito Obs: Os documentos/ decisões do processo, cujas chaves de acesso estão abaixo descritas, poderão ser acessados por meio do link: https://pje.tjdft.jus.br/pje/ Processo/ConsultaDocumento/listView.seam (ou pelo site do TJDFT: \"www.tjdft.jus.br\" * Aba lateral direita \"Advogados\" * item \"Processo Eletrônico - PJe\" * item \"Autenticação de documentos\"; ou também pelo site do TJDFT: \"www.tjdft.jus.br\" * Aba lateral direita \"Cidadãos\" * item \"Autenticação de Documentos\" * item \"Processo Judicial Eletrônico - PJe [Documentos emitidos no PJe]). Documentos associados ao processo ID Título Tipo Chave de acesso** 43023577 Petição Inicial Petição Inicial 19082314131376100000041207964 43023820 101_protocolo_inicial Petição 19082314131408300000041208197 43023878 302_notificacao Outros Documentos 19082314131427400000041208252 43023992 303_contrato Outros Documentos 19082314131978500000041208356 43024085 308_planilha_ajuizamento Outros Documentos 19082314133934000000041208443 43024124 314_tela_sng Outros Documentos 19082314133945400000041208478 43024197 317_detran Outros Documentos 19082314134008400000041208547 43024250 319_calculadora Outros Documentos 19082314134130700000041208600 43024353 PROCURAÇÃO AD JUDICIA AYMORÉ-compressed Outros Documentos 19082314134142400000041208700 43024381 SUBS_ATUALIZADO- 21-01-2018 Outros Documentos 19082314134162500000041208728 43024475 Substabelecimento -AYMORE Neves Costa Outros Documentos 19082314134182700000041208816 43024513 172672 Outros Documentos 19082314134201500000041208853 43024552 GuiaInicial0400050825 - 172672 Outros Documentos 19082314134215800000041208890',\n",
       "  '4.48%'),\n",
       " ('N. 0705269-43.2019.8.07.0001 - PROCEDIMENTO COMUM CÍVEL - A: JOANA MARIA SOUSA DOS PASSOS. Adv(s).: DF0018348A - CINTIA MARA DIAS CUSTODIO. R: CONSTRUTORA CARVALHO PEREIRA LTDA. Adv(s).: MG0108356A - CARLOS GUSTAVO VILLELA DE OLIVEIRA. R: CAENGE S.A - CONSTRUCAO ADMINISTRACAO E ENGENHARIA. Adv(s).: DF0017390A - WALTER JOSE FAIAD DE MOURA. Poder Judiciário da União TRIBUNAL DE JUSTIÇA DO DISTRITO FEDERAL E DOS TERRITÓRIOS 25VARCVBSB 25ª Vara Cível de Brasília Número do processo: 0705269-43.2019.8.07.0001 Classe judicial: PROCEDIMENTO COMUM CÍVEL (7) AUTOR: JOANA MARIA SOUSA DOS PASSOS RÉU: CONSTRUTORA CARVALHO PEREIRA LTDA, CAENGE S.A - CONSTRUCAO ADMINISTRACAO E ENGENHARIA SENTENÇA Trata-se de ação de Resolução de Contrato de promessa de compra e venda de imóvel, proposta por JOANA MARIA SOUSA DOS PASSOS em desfavor de CONSTRUTORA CARVALHO PEREIRA LTDA e de CAENGE S.A - CONSTRUÇÃO ADMINISTRAÇÃO E ENGENHARIA, conforme qualificação constante dos autos. Integro a esta sentença o relatório da decisão saneadora de ID nº 37495097, que contém a síntese dos fatos juridicamente relevantes. Decido. O feito comporta julgamento antecipado, nos termos do inciso I , do artigo 355, do Código de Processo Civil, pois não se faz necessária a dilação probatória. Depreende-se do conjunto postulatório que a autora pretende o desfazimento do contrato de promessa de compra e venda do imóvel descrito como Lote 01, da Quadra 29, do Loteamento Jardim América III, localizado em Águas Lindas de Goiás - GO. Entende a demandante que as rés encontram-se em mora quanto à entrega da infraestrutura indicada no contrato (ID nº 29960041), de sorte que seria caso de decretação da resolução do ajuste. Alternativamente, pede a resilição do pacto, com a declaração de nulidade das cláusulas que preveem a irrevogabilidade e irretratabilidade e a retenção de arras, admitindo-se tão somente a retenção de 10% do valor pago, a título de cláusula penal resolutória. Ab initio, verifica-se que a causa de pedir remota passiva, consubstanciada no alegado inadimplemento das vendedoras quanto à entrega da infraestrutura do empreendimento, não se encontra corroborada pelos elementos de prova dos autos. Isto porque o próprio documento público juntado pela parte no ID nº 29960041, p. 79, atesta que \"o fornecimento de água para o loteamento Jardim América III iniciou em julho de 2016\", de modo que o descumprimento apontado já se encontrava substancialmente sanado no momento do ajuizamento da pretensão resolutória. Ora, a inércia qualificada da autora, ao longo da execução do contrato, em exercer a faculdade de desfazer o negócio em decorrência do atraso das vendedoras, cria para estas a sensação válida e plausível de ter havido a tolerância na postergação da implementação da infraestrutura prometida. Diante desse panorama, o efeito limitador que emana do princípio da boa-fé objetiva contratual torna inviável a pretensão principal deduzida na inicial de exigir a resolução do contrato, amparada em mora não mais contemporânea e que fora tolerada pelos contratantes até a sua solução substancial, o que frustraria expectativa legítima, mantida ao longo de toda a relação contratual (surrectio). Forçoso reconhecer, portanto, que não há demonstração de culpa atribuível às rés, neste átimo, para a resolução do negócio. Assim, deve ser analisado o desfazimento do contrato sob o plano subsidiário da resilição unilateral por iniciativa da promitente compradora, sem adotar como parâmetro o pretérito descumprimento do ajuste pelas rés. Logo, remanesce como ponto controvertido da demanda aferir quais são aos valores a serem devolvidos em razão da desistência da promitente compradora na continuidade do contrato de compra e venda do imóvel. A autora entende cabível a devolução de pelo menos 90% do valor pago. Contudo, as rés sustentam a regularidade da imposição da multa compensatória, mediante retenção de 30% ou 25% sobre o valor 1161 Edição nº 177/2019 Brasília - DF, disponibilização sexta-feira, 13 de setembro de 2019 pago, conforme permissivo da Lei nº 13.786/18, cumulada ainda com as arras e indenização pelo uso do bem. O contrato celebrado entre as partes é nitidamente contrato de adesão, com cláusulas gerais e uniformes, redigido por uma das partes, sem possibilidade de discussão das condições do negócio (vide similitude com o contrato de ID nº 29958709). Nesse sentido, é plenamente possível a declaração de nulidade de cláusula que importe abuso de direito e lesividade à parte hipossuficiente, em contrariedade aos princípios da boa-fé e da transparência, fundamentados nos artigos 6º, inciso V, e 51, § 2º, ambos do Código de Defesa do Consumidor, cujas prescrições são de ordem pública e interesse social. Por essa razão, o princípio da autonomia da vontade deve ser abrandado para restabelecer a proporcionalidade da relação contratual, de modo que não se afigura legítima a imposição de cláusula que retire da consumidora o direito potestativo de não mais se submeter aos termos do ajuste, devendo arcar, porém, com os ônus daí decorrentes. Com efeito, havendo dissolução contratual por desistência do promissário comprador, é lícito o ajuste de vontades que prevê a retenção de parte do valor pago por ele, no ato da restituição, a fim de ressarcir o promitente vendedor pelos gastos que teve na celebração do negócio e por eventuais prejuízos decorrentes do desfazimento prematuro. No caso vertente, o ajuste concernente à pré-fixação da indenização em caso de dissolução do negócio encontra-se disciplinado no Parágrafo Segundo da Cláusula Quinta do contrato, em percentual razoável de 10%, o que, a bem da verdade, não malfere os dispositivos insertos no Código de Defesa do Consumidor e, segundo as regras de experiência comum subministradas pela observação do que ordinariamente acontece em casos congêneres, mostra-se suficiente para o ressarcimento de eventuais danos. Desse modo, não cabe às rés estipulantes do contrato, nesta assentada, exigir arbitrariamente parcela superior ao que fora originalmente pactuado, ainda que lei posterior admita percentual mais elevado, a prevalecer a força vinculante do contrato - pacta sunt servanda. A corroborar a conclusão exarada nesta sentença, veja-se que a jurisprudência desde egrégio Tribunal de Justiça reforça que a retenção de 10% sobre o valor atualizado do que foi efetivamente pago pela parte autora é suficiente para cobrir todos os eventuais prejuízos advindos do desfazimento do negócio, levando-se em consideração que ficará com a propriedade do imóvel e poderá renegociá-lo, ipsis litteris: ? APELAÇÃO CÍVEL. PROCESSUAL CIVIL E DO CONSUMIDOR. AÇÃO DE RESOLUÇÃO CONTRATUAL. COMPRA E VENDA DE IMÓVEL. CONTRATO INICIAL. ATRASO NA ENTREGA. DISTRATO. NOVO CONTRATO. DESISTÊNCIA. DESCONSTITUIÇÃO DA AVENÇA POR CULPA DO PROMISSÁRIO COMPRADOR. DIREITOS RELATIVOS AO PRIMEIRO INSTRUMENTO. RENÚNCIA NO DISTRATO. IMPOSSIBILIDADE. CLÁUSULA ABUSIVA. ART. 51, I, DO CÓDIGO DE DEFESA DO CONSUMIDOR. LUCROS CESSANTES DEVIDOS. RETENÇÃO DE PARTE DO VALOR PAGO. POSSIBILIDADE. FIXAÇÃO NO PATAMAR DE 10%. PROPORCIONALIDADE E RAZOABILIDADE PARA O CASO. SENTENÇA MANTIDA. 1. Em matéria consumerista, são nulas as cláusulas que impossibilitem, exonerem ou atenuem a responsabilidade do fornecedor por vícios de qualquer natureza dos produtos e serviços ou impliquem renúncia ou disposição de direitos. 2. Consoante jurisprudência firmada no colendo Superior Tribunal de Justiça e neste egrégio Tribunal, é cabível a retenção de 10% a 25% do valor pago em caso de desfazimento do contrato de compra e venda de imóvel por culpa do comprador, patamar que será balizado de acordo com as circunstâncias do caso concreto. 3. Não havendo circunstância extraordinária além das normais à espécie que justifique a retenção em patamar superior, correta a fixação do percentual de 10% (dez por cento). 4. Apelação conhecida e não provida.\" (Acórdão nº 1174610, 07399224220178070001, Relator: SIMONE LUCINDO, 1ª Turma Cível, Data de Julgamento: 29/05/2019, Publicado no DJE: 03/06/2019) ?DIREITO CIVIL. APELAÇÃO CÍVEL. AÇÃO DE RESCISÃO CONTRATUAL C/C INDENIZAÇÃO. COMPRA E VENDA DE IMÓVEL EM CONSTRUÇÃO. INADIMPLÊNCIA DO PROMITENTE COMPRADOR. RETENÇÃO DE PARTE DOS VALORES PAGOS. POSSIBILIDADE. DEZ POR CENTO. RAZOABILIDADE. RETENÇÃO DO SINAL/ARRAS AFASTADA. FIXAÇÃO PROPORCIONAL DAS VERBAS SUBUMBENCIAIS. 1. É justa a retenção de 10% do valor pago pelo promitente comprador em caso de rescisão decorrente do seu inadimplemento, porque não demonstrada pela construtora situação excepcional que justifique a retenção de percentual maior. 2. Não é legítima a retenção do sinal pago pelo promitente vendedor, pois tem caráter confirmatório, nos termos do art. 417 do Código Civil. 3. Nas causas em cada litigante for, em parte, vencedor e vencido, serão proporcionalmente distribuídas entre eles as custas processuais e os honorários advocatícios. 4. Apelação conhecida e parcialmente provida.Unânime.\" (Acórdão nº 1171343, 07172986220188070001, Relator: FÁTIMA RAFAEL, 3ª Turma Cível, Data de Julgamento: 16/05/2019, Publicado no DJE: 22/05/2019) Quanto às arras, tem-se que devem ser computadas no preço a ser restituído. Isso porque, conforme entendimento consolidado do Egrégio Superior Tribunal de Justiça, ?pactuada a venda de imóvel com o pagamento de arras confirmatórias como sinal - que têm a função apenas de assegurar o negócio jurídico -, com o seu desfazimento, a restituição das arras é de rigor, sob pena de se criar vantagem exagerada em favor do vendedor? (STJ, REsp 90.7856/DF, 3ª Turma, Rel. Min. Sidnei Beneti). Este também é o entendimento deste eg. Tribunal de Justiça: ?APELAÇÃO CÍVEL. AÇÃO DE RESCISÃO CONTRATUAL C/C DEVOLUÇÃO DE VALORES. PROMESSA DE COMPRA E VENDA DE IMÓVEL. DESISTÊNCIA PELO PROMITENTE-COMPRADOR. RAZOABILIDADE DA RETENÇÃO DE 15% DOS VALORES PAGOS. NÃO RETENÇÃO DE ARRAS. 1. É razoável e proporcional a retenção pela promitente-vendedora de 15% dos valores pagos pelo consumidor que deu causa à rescisão contratual. 2. O valor pago como sinal/arras integra o valor total do imóvel e a sua retenção, além do percentual de 15% sobre os valores pagos, implica em bis in idem. 3. Deu-se parcial provimento ao apelo da ré.\" (Acórdão nº 1169116, 07051895620188070020, Relator: SÉRGIO ROCHA, 4ª Turma Cível, Data de Julgamento: 08/05/2019, Publicado no DJE: 20/05/2019) ?RECURSO DE APELAÇÃO. DIREITO DO CONSUMIDOR. RESCISÃO CONTRATUAL. CONTRATO DE COMPRA E VENDA COM PACTO ADJETO DE ALIENAÇÃO FIDUCIÁRIA. REGISTRO. CARTÓRIO DE IMÓVEIS. OBRIGATORIEDADE. REQUISITO INDISPENSÁVEL. CONSTITUIÇÃO. PROPRIEDADE FIDUCIÁRIA. GARANTIA REAL. RESOLUÇÃO IMOTIVADA. IMPOSSIBILIDADE. AUSÊNCIA DE REGISTRO. OBRIGAÇÃO SEM GARANTIA REAL. RETENÇÃO. VALOR. MAJORAÇÃO. RETENÇÃO DAS ARRAS. IMPOSSIBILIDADE. RECURSO PARCIALMENTE PROVIDO. [...] As arras são uma garantia inicial, ou seja, preliminar, da formação do negócio jurídico. Com o início do pagamento das parcelas acertadas entre as partes, o montante entregue é abatido do saldo devedor contratual, não havendo que se falar, portanto, em sua retenção. 7. Apelação conhecida e parcialmente provida.\" (Acórdão nº 1165041, 07143049520178070001, Relator: EUSTÁQUIO DE CASTRO, 8ª Turma Cível, Data de Julgamento: 11/04/2019, Publicado no DJE: 20/05/2019) Assim, verificado que as partes efetivamente firmaram promessa de compra e venda de imóvel, bem como que o contrato gerou efeitos ante o pagamento de parcelas pela parte autora, restou ultrapassada a fase preliminar da avença, cabendo, então, a sua dissolução sem que se ventile a respeito da devolução, isoladamente, das arras, pois, em verdade, elas se incorporaram ao valor total do negócio. Deveras, a mens legis é alcançar pacto harmônico, equilibrado, com respeito ao princípio da comutatividade, afastando-se o desequilíbrio no contrato de consumo que, no caso, prejudica, e muito, a parte hipossuficiente. À luz do que dispõe o parágrafo único do artigo 416, do Código Civil, competiria às rés provar os alegados prejuízos excedentes à indenização pré-fixada, o que não restou minimamente demonstrado nos autos. Aliás, veja-se que o objeto transacionado no contrato trata-se, na verdade, de terreno que sequer conta com unidade habitacional erigida, a presumir que não houve uso efetivo do bem que justifique o pleito da ré neste ponto. Por fim, deixo de fixar multa por litigância de má-fé, tendo em vista que não restou caracterizado nos autos o desiderato das partes em infligir prejuízo, tampouco comprovado o efetivo dano processual, tendo ambos os pólos litigantes se utilizado moderadamente dos meios legais e da retórica para defender o direito que acreditam ostentar. No que diz respeito aos efeitos da mora, não se amolda ao caso a aplicação compulsória do entendimento firmado pela Corte Superior no bojo do REsp. 1740911/DF (Tema 1.002 do STJ), pois ausente similitude fática com o caso paradigma, dado que no contrato sub judice nestes autos não há cláusula convencionada para a hipótese de resilição. Diante do exposto, confirmo a tutela antecipada e JULGO PARCIALMENTE PROCEDENTES os pedidos da autora para: a) decretar a resilição do contrato de promessa de compra e venda entabulado entre as partes por iniciativa da promitente compradora; b) condenar a ré a restituir à autora a quantia de R$ 39.753,76 (trinta e nove mil, setecentos e cinquenta e três reais e setenta e seis centavos), devidamente atualizada pelo índice oficial adotado pelo TJDFT (INPC) desde o desembolso de cada parcela, com juros de mora de 1% ao mês a partir da citação (24/04/2019 - ID nº 32775728), autorizada a retenção de 10% sobre o montante pago. Os demais pedidos são improcedentes. Por conseguinte, resolvo o feito com análise do mérito, nos termos do art. 487, I do Código de Processo Civil. Em face da sucumbência recíproca, diante da improcedência do pedido principal da autor, condeno ambas as partes ao pagamento das despesas e honorários de sucumbência, no percentual de 10% sobre o valor da condenação, nos termos do art. 85, §2º e 86, caput, do Código de Processo Civil. A autora arcará com 1/3 das referidas despesas e a ré pagará 2/3 restantes. Suspensa a exigibilidade em face da autora, ante a manutenção da gratuidade de Justiça deferida nos autos. Transitada em julgado, proceda-se nos termos do art. 100 do Provimento Geral da 1162 Edição nº 177/2019 Brasília - DF, disponibilização sexta-feira, 13 de setembro de 2019 Corregedoria desta Corte. Interposto recurso de apelação, intime-se a parte recorrida a se manifestar, no prazo de 15 (quinze) dias, remetendo- se em seguida os autos ao Eg. TJDFT. Publique-se. Intimem-se. [assinado digitalmente] JULIO ROBERTO DOS REIS Juiz de Direito',\n",
       "  '0.37%'),\n",
       " ('N. 0703609-78.2019.8.07.0012 - BUSCA E APREENSÃO EM ALIENAÇÃO FIDUCIÁRIA - A: AYMORE CREDITO, FINANCIAMENTO E INVESTIMENTO S.A.. Adv(s).: DF0028317S - FLAVIO NEVES COSTA. R: ARTHUR GUIMARAES CASTELO. Adv(s).: Nao Consta Advogado. Poder Judiciário da União TRIBUNAL DE JUSTIÇA DO DISTRITO FEDERAL E DOS TERRITÓRIOS 2ª Vara Cível, de Família e de Órfãos e Sucessões de São Sebastião Número do processo: 0703609-78.2019.8.07.0012 Classe judicial: BUSCA E APREENSÃO EM ALIENAÇÃO FIDUCIÁRIA (81) AUTOR: AYMORE CREDITO, FINANCIAMENTO E INVESTIMENTO S.A. RÉU: ARTHUR GUIMARAES CASTELO DESPACHO',\n",
       "  '41.04%'),\n",
       " ('N. 0702596-44.2019.8.07.0012 - BUSCA E APREENSÃO EM ALIENAÇÃO FIDUCIÁRIA - A: BANCO J. SAFRA S.A. Adv(s).: MG0091045A - MARCELO MICHEL DE ASSIS MAGALHAES. R: PAULO ROBERTO NUNES DE ALMEIDA. Adv(s).: Nao Consta Advogado. Isso posto, EXTINGO o processo sem resolução do mérito, com base no art. 485, inciso VI, do Código de Processo Civil. Revogo a liminar (ID n° 41881878). Recolha-se o mandado de busca e apreensão, sem cumprimento (ID n° 42591478). Como não houve homologação de acordo por sentença, não incide o disposto no art. 90, § 3º, do CPC, portanto, o autor arcará com as custas finais do processo, se houver, nos termos do art. 90, ?caput?, do CPC. Sem condenação em honorários de advogado. Após o trânsito em julgado da presente sentença, dê-se baixa e arquivem- se os autos. Publique-se. Registre-se. Intime-se. São Sebastião/DF, 11 de setembro de 2019. WANDER LAGE ANDRADE JUNIOR Juiz de Direito DESPACHO',\n",
       "  '1.12%'),\n",
       " ('N. 0712379-36.2019.8.07.0020 - BUSCA E APREENSÃO EM ALIENAÇÃO FIDUCIÁRIA - A: BANCO J. SAFRA S.A. Adv(s).: SP0192649A - ROBERTA BEATRIZ DO NASCIMENTO. R: NELMA MORAES CARREIRA. Adv(s).: Nao Consta Advogado. Poder Judiciário da União TRIBUNAL DE JUSTIÇA DO DISTRITO FEDERAL E DOS TERRITÓRIOS 3VACIVAGCL 3ª Vara Cível de Águas Claras Número do processo: 0712379-36.2019.8.07.0020 Classe judicial: BUSCA E APREENSÃO EM ALIENAÇÃO FIDUCIÁRIA (81) AUTOR: BANCO J. SAFRA S.A RÉU: NELMA MORAES CARREIRA Nome: NELMA MORAES CARREIRA Endereço: Rua 9, 12, AP 101, RES TARUMA, Sul (Águas Claras), BRASÍLIA - DF - CEP: 71938-360 VEÍCULO: MARCA: VOLKSWAGEN/ MODELO: VOYAGE/ COR: BRANCA/ PLACA: PBO5790/ CHASSI: 9BWDG45U5KT076370/ ANO: 2019/ RENAVAM: 1177646932. DECISÃO INTERLOCUTÓRIA Trata-se de ação de busca e apreensão, fundamentada no Decreto-Lei 911/69, na qual a parte autora almeja provimento liminar que determine a imediata busca e apreensão do veículo alienado fiduciariamente à parte ré (MARCA: VOLKSWAGEN/ MODELO: VOYAGE/ COR: BRANCA/ PLACA: PBO5790/ CHASSI: 9BWDG45U5KT076370/ ANO: 2019/ RENAVAM: 1177646932.). A mora está devidamente comprovada pela notificação que acompanha a inicial (ID 44486346), bem como pelo demonstrativo financeiro de ID 44486346. Portanto, presente o requisito legal previsto no artigo 3º do Decreto- Lei supracitado, DEFIRO liminarmente a busca e apreensão do bem alienado fiduciariamente, o qual deverá ficar depositado nas mãos de um dos depositários fiéis indicados na inicial (ID 44485942). Cite-se e intime-se a parte requerida. Advirta-se o (a) réu (ré) de que, executada a liminar, iniciará o prazo de 5 dias para pagar a integralidade do débito contratual, segundo os valores apresentados pelo credor fiduciário na petição inicial, hipótese em que o bem lhe será restituído livre do ônus. Cientifique-se, ainda, a referida parte de que o prazo legal de 15 dias para resposta terá início apenas a partir do efetivo cumprimento da liminar. Em caso de falta de anotação do gravame no registro do veículo, advirta-se o oficial de justiça de que não deverá realizar a apreensão do veículo, caso ele esteja na posse de terceiro. Caso o automóvel não seja localizado, intime-se a parte autora para indicar, de forma precisa, o local onde o bem poderá ser apreendido, advertindo-a de que, se o paradeiro do bem for desconhecido, deverá requerer a imediata conversão do feito em execução, na forma do art. 4º do Decreto- Lei 911/69. Caso a parte ré não seja localizada no endereço informado na inicial, fica autorizada, desde já, em homenagem ao princípio da cooperação e para atender ao disposto no art. 256, § 3º, do CPC, a realização de pesquisas de endereço nos sistemas informatizados INFOSEG e SIEL à disposição deste juízo. Localizado o atual endereço da parte requerida, desentranhe-se o mandado para cumprimento nos endereços apontados nas pesquisas. Havendo necessidade, poderá o oficial de justiça responsável pelo cumprimento da ordem contatar o escritório de advocacia que patrocina os interesses da parte autora. Autorizo o cumprimento do mandado fora do horário de expediente forense, nos termos do disposto no art. 212, § 2º, do CPC/2015, observado o parâmetro constitucional do art. 5º, inciso XI. Em caso de impedimento de acesso ao local onde se encontra o bem, fica autorizada, desde já, a requisição de força policial e arrombamento, se necessário, a critério do Oficial de Justiça responsável pelo cumprimento da ordem. Deixo de determinar o bloqueio do veículo no sistema Renajud por não vislumbrar a efetividade da medida, sobretudo em razão da baixa probabilidade de apreensão do bem na esfera administrativa. Determino a retirada do segredo de justiça dos autos, tendo em vista que os atos processuais são públicos e a matéria tratada no presente processo não se insere nas hipóteses do artigo 189 do CPC, devendo ser respeitado o princípio da publicidade dos atos judiciais. Atribuo a esta decisão força de mandado. Intime-se. Águas Claras, DF, 11 de setembro de 2019 13:50:06. PALOMA FERNANDES RODRIGUES BARBOSA Juíza de Direito Documentos associados ao processo ID Título Tipo Chave de acesso** 44485880 Petição Inicial Petição Inicial 19091113270193700000042603537 44485942 1_Petição Inicial_52119968 Petição 19091113270224600000042603594 44485979 2_1_Procuração_PROCURAÇÃO_52119968 Procuração/Substabelecimento 19091113270320100000042603627 44486033 2_2_Procuração_SUBS_52119968 Procuração/ Substabelecimento 19091113270340200000042603675 44486062 3_1_Atos_Constitutivos_ATA_52119968 Documento de Identificação 19091113270355200000042603704 44486085 3_2_Atos_Constitutivos_ATA_52119968 Documento de Identificação 19091113270371500000042603726 44486206 3_3_Atos_Constitutivos_ATA_52119968 Documento de Identificação 19091113270385100000042603843 44486232 4_1_Documento_RECEITA_52119968 Documento de Comprovação 19091113270399400000042603869 44486262 4_2_Documento_CONTRATO_52119968 Documento de Comprovação 19091113270419500000042603899 44486301 4_3_Documento_DETRAN_52119968 Documento de Comprovação 19091113270433300000042603935 44486346 4_4_Documento_NOTIFICAÇÃO_52119968 Documento de Comprovação 19091113270551200000042603979 44486388 4_5_Documento_PLANILHA_52119968 Documento de Comprovação 19091113270612700000042604020 44486426 5_Guias de Custas_52119968 Comprovante de Pagamento de Custas 19091113270691800000042604056 Obs: Os documentos/decisões do processo, cujas chaves de acesso estão acima descritas, poderão ser acessados por meio do link: https://pje.tjdft.jus.br/pje/Processo/ConsultaDocumento/listView.seam (ou pelo site do TJDFT: \"www.tjdft.jus.br\" * Aba lateral direita \"Advogados\" * item \"Processo Eletrônico - PJe\" * item \"Autenticação de documentos\"; ou também pelo site do TJDFT: \"www.tjdft.jus.br\" * Aba lateral direita \"Cidadãos\" * item \"Autenticação de Documentos\" * item \"Processo Judicial Eletrônico - PJe [Documentos emitidos no PJe]).',\n",
       "  '1.49%'),\n",
       " ('N. 0707560-98.2019.8.07.0006 - BUSCA E APREENSÃO EM ALIENAÇÃO FIDUCIÁRIA - A: AYMORE CREDITO, FINANCIAMENTO E INVESTIMENTO S.A.. Adv(s).: SP0225061A - RAPHAEL NEVES COSTA, DF0028978S - RICARDO NEVES COSTA, DF0028317S - FLAVIO NEVES COSTA. R: ANA BEATRIZ DOS SANTOS MARTINS. Adv(s).: Nao Consta Advogado. Poder Judiciário da União TRIBUNAL DE JUSTIÇA DO DISTRITO FEDERAL E DOS TERRITÓRIOS 1VARCIVSOB 1ª Vara Cível de Sobradinho Setor Central Administrativo e Cultural A, sala B-105, 1 andar, ala B, Sobradinho, BRASÍLIA - DF - CEP: 73010-501 Telefone: (61) 3103-3003 Email: 1vcivel.sobradinho@tjdft.jus.br Horário de atendimento: 12:00 às 19:00 Número do processo: 0707560-98.2019.8.07.0006 Classe judicial: BUSCA E APREENSÃO EM ALIENAÇÃO FIDUCIÁRIA (81) AUTOR: AYMORE CREDITO, FINANCIAMENTO E INVESTIMENTO S.A. RÉU: ANA BEATRIZ DOS SANTOS MARTINS DECISÃO INTERLOCUTÓRIA COM FORÇA DE MANDADO Parte ré: ANA BEATRIZ DOS SANTOS MARTINS Endereço: Setor DNOCS Quadra 2 Conjunto 1 Casa 6, Sobradinho, BRASÍLIA - DF - CEP: 73020-515 Bem objeto da ação: VW GOL 1.0, cor CINZA, placa HOG4341, ano 2010/2011 A instituição financeira autora pede a busca e apreensão do veículo supracitado, objeto de contrato de alienação fiduciária regido pelo Decreto-Lei 911/69, alterado pela Lei 10.931/2004, firmado com ANA BEATRIZ DOS SANTOS MARTINS (CPF: 045.745.701-56). Verifico, pela análise dos autos, a comprovação do vínculo contratual entre as partes, a estipulação da garantia fiduciária e a constituição de mora da parte ré, conforme notificação que instrui o pedido, além dos demais pressupostos autorizadores da medida, razão pela qual DEFIRO A LIMINAR de busca e apreensão do veículo automotor descrito na petição inicial que deverá ser depositado com uma das pessoas autorizadas pela parte autora. O prazo de 5 dias para purga da mora, segundo os valores apresentados pela parte autora na petição inicial, acrescidos de honorários advocatícios de 10%, começa a fluir a partir do cumprimento da liminar. Depois de cumprida a decisão liminar, cite-se a parte ré para apresentar resposta no prazo de 15 dias (art. 3º, §§2º e 3º do Dec. Lei 911/69). A parte ré fica advertida de que deverá comunicar ao juízo todas as alterações em seu endereço, sob pena de serem consideradas válidas as intimações encaminhadas para o endereço em que ocorrer a citação (CPC, art. 274, parágrafo único). Caso a parte ré não seja encontrada no endereço indicado na petição inicial, a Secretaria deverá diligenciar nos sistemas à disposição deste juízo para a localização da parte e, caso a parte seja pessoa jurídica, seu gerente. Na hipótese de a parte residir em comarca localizada fora do Distrito Federal e a correspondência de citação for devolvida pelos Correios em razão de a parte estar ausente em três oportunidades distintas, expeça-se carta precatória para citação. Infrutífera a citação pessoal, deverá ser expedido edital de citação, com prazo de 20 dias. No caso de pagamento do débito, o veículo será restituído à parte autora. A resposta poderá ser apresentada ainda que o devedor tenha se utilizado da faculdade de quitação da integralidade da dívida, caso entenda ter havido pagamento a maior e desejar restituição. Confiro à decisão força de mandado. Fica deferido uso de força policial e arrombamento, bem como horário especial, caso constatada a necessidade desses recursos pelo Oficial de Justiça, e em qualquer local onde for localizado o veículo, podendo o endereço ser indicado pelo representante da parte autora, observado o Setor de atuação do Oficial que estiver cumprindo a medida. A instituição financeira deverá fornecer os meios necessários para o cumprimento da diligência, no prazo de 10 dias, independentemente de contato do Oficial de Justiça, viabilizando a devolução do mandado pelo Oficial no prazo indicado no Provimento Geral da Corregedoria. Caso os meios não sejam fornecidos, Sr. Oficial deverá certificar se o veículo encontra-se no endereço indicado no mandado, se a parte ré reside no local diligenciado e qual a medida de ordem prática necessária ao cumprimento do mandado a cargo da parte autora. Cumprido o mandado deverá o Oficial de Justiça entregar o veículo a um dos depositários indicados no rol abaixo especificado, qualificando-o e indicando o seu endereço, bem como o do local onde o veículo permanecerá depositado. Todavia, caso o veículo não seja localizado, intime-se a parte autora para que converta a presente ação em ação de execução, conforme disposto nos artigos 4º do Decreto-Lei nº 911/69, no prazo de 15 dias. Pena de extinção do feito por falta de pressuposto e interesse processual. Diante do poder geral de cautela determino a inserção de restrição de licenciamento por meio do sistema RENAJUD. DEPOSITÁRIO INDICADO PELA AUTORA: 1) RICARDO ADRIANO DO NASCIMENTO, CPF nº 443.337.901-82 ADVERTÊNCIAS PARA O SR. OFICIAL DE JUSTIÇA: 1- O Oficial de Justiça deverá certificar o nome do fiel depositário, telefone e o endereço para onde o(s) bem(ns) será levado e se o(a) requerido(a) foi localizado(a). 2- Feita a busca e apreensão, o(a) Sr.(a) Oficial de Justiça deverá proceder à avaliação e vistoria do(s) bem(ns). 3- Não sendo localizado o bem, deverá certificar se o réu foi encontrado no endereço e se está na posse do bem, nos termos do art. 4º do DL n.º 911/69. 4- A presente ordem poderá ser cumprida em qualquer local onde se encontrar o veículo. ADVERTÊNCIAS PARA AS PARTES: 1- O prazo para o (a) requerido (a) pagar a integralidade da dívida, conforme os valores apresentados na cópia anexa, é de 05 (cinco) dias, a partir da execução da liminar, o que dará o direito de ter o bem(ns) restituído(s). 2- O prazo para apresentar defesa,sob pena de serem considerados verdadeiros os fatos alegados pelo requerente, é de 15 (quinze) dias, contados da data da execução da liminar. A resposta poderá ser apresentada ainda que tenha pago a integralidade da dívida. 3- Fica o(a) Requerente advertido (a) de que sendo o pedido julgado improcedente ocorrerá o disposto nos §§ 6º e 7º do art. 3º do Decreto-Lei 911/69, com a redação dada com a Lei 10.931/04. 4- A parte citada deverá constituir advogado ou Defensor Público, sendo que a Defensoria Pública de Sobradinho localiza-se na Quadra 8, Comércio Local 13, Loja 01 - Próximo ao Centro Médico SALUTE. 5- Fica a autora advertida de que, durante o prazo de 5 dias para purga da mora, o bem não poderá sair do DF sem prévia comunicação deste Juízo a fim de eventual restituição em caso de pagamento da dívida. Sobradinho, DF, 10 de setembro de 2019 16:50:04. LUCIANA PESSOA RAMOS Juíza de Direito Documentos associados ao processo Título Tipo Chave de acesso** Petição Inicial Petição Inicial 19081609064123800000040655238 101_protocolo_inicial Petição 19081609064137100000040655285 301_telas Outros Documentos 19081609064148900000040655294 302_notificacao Outros Documentos 19081609064169700000040655304 303_contrato Outros Documentos 19081609064184400000040655319 308_planilha_ajuizamento Outros Documentos 19081609064223500000040655321 314_tela_sng Outros Documentos 19081609064234400000040655323 317_detran Outros Documentos 19081609064250900000040655333 319_calculadora Outros Documentos 19081609064533700000040655338 PROCURAÇÃO AD JUDICIA AYMORÉ-compressed Outros Documentos 19081609064543700000040655342 SUBS_ATUALIZADO- 21-01-2018 Outros Documentos 19081609064573100000040655345 Substabelecimento -AYMORE Neves Costa Outros Documentos 19081609064583100000040655348 169919 Outros Documentos 19081609064598200000040655354 GuiaInicial0600063311 - 169919 Outros Documentos 19081609064607500000040655357 Certidão Certidão 19081614003495300000040682407 Decisão Decisão 19082018350853000000040936139 Petição Petição 19090416202938800000042119443 169919_AUTORIZAÇÃO DE DEPOSITÁRIO Petição 19090416202953700000042119548 Obs: Os documentos/decisões do processo, cujas chaves de acesso estão acima descritas, poderão ser acessados por meio do link: https://pje.tjdft.jus.br/pje/Processo/ConsultaDocumento/ listView.seam (ou pelo site do TJDFT: \"www.tjdft.jus.br\" * Aba lateral direita \"Advogados\" * item \"Processo Eletrônico - PJe\" * item \"Autenticação de documentos\"; ou também pelo site do TJDFT: \"www.tjdft.jus.br\" * Aba lateral direita \"Cidadãos\" * item \"Autenticação de Documentos\" * item \"Processo Judicial Eletrônico - PJe [Documentos emitidos no PJe]).',\n",
       "  '2.99%'),\n",
       " ('N. 0708494-56.2019.8.07.0006 - BUSCA E APREENSÃO EM ALIENAÇÃO FIDUCIÁRIA - A: Banco Volkswagen S/A. Adv(s).: DF0028317S - FLAVIO NEVES COSTA. R: FRANCISCO SERGIO DE OLIVEIRA. Adv(s).: Nao Consta Advogado. Poder Judiciário da União TRIBUNAL DE JUSTIÇA DO DISTRITO FEDERAL E DOS TERRITÓRIOS 1VARCIVSOB 1ª Vara Cível de Sobradinho Número do processo: 0708494-56.2019.8.07.0006 Classe judicial: BUSCA E APREENSÃO EM ALIENAÇÃO FIDUCIÁRIA (81) AUTOR: BANCO VOLKSWAGEN S/ A RÉU: FRANCISCO SERGIO DE OLIVEIRA DECISÃO INTERLOCUTÓRIA Emende-se a petição inicial para apresentar planilha em que haja discriminação das parcelas vencidas e das vincendas. Ressalto que as parcelas vincendas devem vir com a dedução dos juros fixados em contrato. Emende-se a petição inicial para juntar o contrato de financiamento com garantia de alienação fiduciária/cédula de crédito bancário subscrito pela parte ré. Com a juntada do contrato será examinada a regularidade da notificação enviada ao devedor. Para fins de recebimento da inicial, necessária a adequação do rol de depositários. Conforme o que foi decidido no PA-SEI 0009737/2018, as unidades vinculadas à Secretaria de Administração de Mandados e Guarda de Bens Judiciais - SEAMB, não imprimirão mais os documentos que acompanham os mandados expedidos em processos originados no PJE, pois o acesso à referida documentação dar-se-á por meio de chave eletrônica, em conformação ao disposto no Provimento 12/2017 e ao Provimento Geral da Corregedoria. A Corregedoria, nos termos exposto no PA-SEI 0009737/2018, entendendo que o acesso ao inteiro teor dos autos por meio de chave de acesso é providência que cabe à parte e não aos servidores ou auxiliares da justiça, determinou que os mandados para constrição de bens sejam expedidos pela unidade judicial com todos os dados necessários à sua execução, nos termos do art. 72 do Provimento Geral da Corregedoria c/c art. 43, § 3°, do Provimento Judicial 12/2017. Sugeriu que os mandados expedidos pela serventia judicial em dissonância com o art. 72 do PGC sejam devolvidos, conforme autorizado pelo art. 180 do Provimento Geral da Corregedoria. Ocorre que nas ações de Busca e Apreensão de Veículos, baseadas no Dec. Lei 911/69, habitualmente as instituições financeiras indicam extenso rol de depositários. Em regra referido o rol vem exposto em peça separada da petição inicial. O procedimento antes adotado era o de encaminhamento do rol de pessoas autorizadas a figurar como depositárias em anexo ao mandado, tendo em vista que se entendia que a lista anexa integrava o mandado. Por essa sistemática, o depositário fiel era aquele, entre os mencionados no rol de autorizados, que se apresentava ao Oficial de Justiça no momento do cumprimento da diligência. O procedimento, apesar de não regulamentado pela Corregedoria era habitualmente utilizado, sem que houvesse maiores impasses na execução dos mandados. Todavia, a partir das decisões acima referidas, não mais é possível considerar a lista de depositários como parte integrante dos mandados de busca e apreensão. Atualmente, o nome do depositário deve ser inserido no corpo do mandado, sob pena de não cumprimento do expediente. Por vezes a forma de inserção dos dados no Pje impede a cópia do rol para o corpo do mandado e, dada a quantidade de mandados expedidos e de decisões com força de mandado proferidas, não dispomos de recursos humanos suficientes para a alimentação manual dos dados no sistema. Menciono que em alguns casos a lista de depositários conta com 2 ou 3 laudas. Por questões procedimentais e de administração judiciária, não é possível adotar práticas diferenciadas casualmente em cada processo, a depender do tipo de arquivo apresentado pelo autor da ação. Além disso, vasto rol de depositários tende a dificultar a execução da ordem pelo Oficial de Justiça, pois não lhe cabe a escolha da pessoa para o cumprimento da diligência. Aliás, nos termos da Lei, a indicação do depositário compete ao Juiz. De todo o exposto, faz-se imprescindível que a instituição financeira limite o número de pessoas autorizadas a figurar como depositários. Considerada a peculiaridade das ações de Busca e Apreensão, considero razoável que sejam, indicados até três depositários para que seus nomes constem no corpo do mandado. Caso a parte não limite o número de depositários, como ora determinado, no mandado constará tão somente o nome da primeira pessoa do rol apresentado. Advirto ao autor que o mandado de busca e apreensão somente será cumprido mediante apresentação do depositário. Como o aditamento de mandados pelo PJe pende de regulamentação, por ora deixo esclarecido que não serão admitidos pedidos de aditamento de mandados para a inserção de depositários. Se houver alteração do depositário, novo mandado deverá ser expedido, como, por ora, determina a Corregedoria. Assim, fica a parte autora intimada a apresentar emenda à petição inicial, indicando o nome daqueles que deverão constar como depositários no mandado de busca e apreensão, sendo que limito o número de indicados a três, sob pena de ser inserido no corpo do mandado somente o primeiro nome da lista de depositários apresentada. 1586 Edição nº 177/2019 Brasília - DF, disponibilização sexta-feira, 13 de setembro de 2019 Desde já saliento que a alteração do depositário, no curso do processo, somente será aceita mediante justo motivo. Prazo: 15 dias. Sobradinho, DF, 10 de setembro de 2019 11:23:20. LUCIANA PESSOA RAMOS Juíza de Direito 2',\n",
       "  '0.75%'),\n",
       " ('N. 0705801-08.2019.8.07.0004 - BUSCA E APREENSÃO EM ALIENAÇÃO FIDUCIÁRIA - A: BV FINANCEIRA SA CREDITO FINANCIAMENTO E INVESTIMENTO. Adv(s).: SP0147020A - FERNANDO LUZ PEREIRA. R: JULIANDERSON JONNI DA SILVA. Adv(s).: Nao Consta Advogado. Atente-se a parte autora em relação à íntegra da decisão ID n. 39802865. Prazo: 15 dias. Pena de indeferimento. I.',\n",
       "  '31.72%'),\n",
       " ('N. 0703314-17.2019.8.07.0020 - CUMPRIMENTO DE SENTENÇA - A: CARLOS EDUARDO ALVES SAMPAIO. Adv(s).: Nao Consta Advogado. R: LEANDRO PEREIRA GOMES. Adv(s).: Nao Consta Advogado. Poder Judiciário da União TRIBUNAL DE JUSTIÇA DO DISTRITO FEDERAL E DOS TERRITÓRIOS 2JECIVAGCL 2º Juizado Especial Cível de Águas Claras Número do processo: 0703314-17.2019.8.07.0020 Classe judicial: PROCEDIMENTO DO JUIZADO ESPECIAL CÍVEL (436) AUTOR: CARLOS EDUARDO ALVES SAMPAIO RÉU: LEANDRO PEREIRA GOMES DECISÃO Diante do pedido de deflagração da fase do cumprimento de sentença formulado pela parte exequente, com cálculos do contador do juízo de id. 44448432, reclassifique-se o feito para CUMPRIMENTO DE SENTENÇA e, após, intime-se a parte executada para pagar voluntariamente o débito, no prazo de 15 (quinze) dias úteis, sob pena de multa 10% (dez por cento), na forma do artigo 523, § 1º, do Código de Processo Civil/2015. Advirta-se à parte executada de que, transcorrido o prazo de 15 (quinze) dias úteis sem o pagamento voluntário, inicia- se sucessivamente o prazo de 15 (quinze) dias úteis para apresentar a sua impugnação ao cumprimento de sentença, na forma do artigo 525 do CPC/2015. A impugnação somente poderá versar sobre as hipóteses elencadas no art. 52, IX, da Lei nº 9.099/95, observando-se em relação aos cálculos os parágrafos 4º e 5º do art. 525 do CPC. Caso ocorra pagamento, intime-se a parte exequente para, no prazo de 05 dias úteis, dizer se outorga quitação do débito, hipótese em que defiro, desde já, a expedição do alvará de levantamento da quantia depositada. Ressalte- se que o seu silêncio importará anuência com a quitação integral do débito. Não havendo pagamento no prazo para cumprimento voluntário da obrigação de pagar (art. 523, § 1º do CPC/2015), encaminhe-se o processo à Contadoria Judicial para atualização do débito e acréscimo de 10% (dez por cento) da multa prevista no art. 523, § 1º, do CPC. Feito, proceda-se à pesquisa de ativos financeiros da parte executada no sistema BACENJUD. Resultando frutífera a tentativa de bloqueio de ativos financeiros, proceda-se à penhora da quantia tornada indisponível e intime-se a parte executada para apresentar impugnação, no prazo de 15 (quinze) dias úteis. Apresentada a impugnação, intime-se a parte exequente para sobre ela se manifestar, no prazo de 15 (quinze) dias úteis. Após, façam-se os autos conclusos para decisão. Resultando infrutífera a tentativa de bloqueio eletrônico de ativos financeiros da parte executada, proceda-se à pesquisa de registros de veículos em nome da parte devedora por meio do sistema RENAJUD. Encontrando-se veículos, desde que não sejam objetos de alienação fiduciária ou de arrendamento mercantil/ leasing, expeça-se mandado de penhora e avaliação do bem e de intimação da parte executada para impugnar a penhora, no prazo de 15 (quinze) dias úteis. Caso as diligências acima resultem infrutíferas, intime-se a parte credora para indicar bens da parte devedora passíveis de penhora, no prazo de 05 (cinco) dias úteis, sob pena de extinção e arquivamento. Documento assinado eletronicamente pelo Juiz de Direito / Juiz de Direito Substituto abaixo identificado, na data da certificação digital.',\n",
       "  '5.22%')]"
      ]
     },
     "execution_count": 13,
     "metadata": {},
     "output_type": "execute_result"
    }
   ],
   "source": [
    "list_main_texts_freq"
   ]
  },
  {
   "cell_type": "code",
   "execution_count": null,
   "metadata": {},
   "outputs": [],
   "source": []
  }
 ],
 "metadata": {
  "kernelspec": {
   "display_name": "Python 3",
   "language": "python",
   "name": "python3"
  },
  "language_info": {
   "codemirror_mode": {
    "name": "ipython",
    "version": 3
   },
   "file_extension": ".py",
   "mimetype": "text/x-python",
   "name": "python",
   "nbconvert_exporter": "python",
   "pygments_lexer": "ipython3",
   "version": "3.8.5"
  }
 },
 "nbformat": 4,
 "nbformat_minor": 4
}
