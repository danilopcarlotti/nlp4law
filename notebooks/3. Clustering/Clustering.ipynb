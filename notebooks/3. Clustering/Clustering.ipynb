{
 "cells": [
  {
   "cell_type": "markdown",
   "metadata": {},
   "source": [
    "# CLUSTERING WITH KMEDOIDS\n",
    "\n",
    "- The objective is to find k clusters of similar documents given a certain corpus\n",
    "- The main analysis are:\n",
    " - Find the texts closest to the center of each cluster and manually read them for insight\n",
    " - Measure the density of each cluster and how far apart they are from one another\n",
    " - The distribution of texts in each class (if the texts are already classified)"
   ]
  },
  {
   "cell_type": "markdown",
   "metadata": {},
   "source": [
    "### LOAD DATA"
   ]
  },
  {
   "cell_type": "code",
   "execution_count": 1,
   "metadata": {},
   "outputs": [],
   "source": [
    "import pandas as pd\n",
    "from pathlib import Path\n",
    "\n",
    "df = pd.read_csv(Path().absolute().parent.parent / \"data/text_class.csv\")"
   ]
  },
  {
   "cell_type": "code",
   "execution_count": 2,
   "metadata": {},
   "outputs": [],
   "source": [
    "import sys\n",
    "from pathlib import Path\n",
    "\n",
    "sys.path.insert(0, str(Path().absolute().parent.parent))\n",
    "\n",
    "from src.text_vectorization import hashing_texts\n",
    "\n",
    "X = hashing_texts(df[\"text\"], 2**15)"
   ]
  },
  {
   "cell_type": "code",
   "execution_count": 3,
   "metadata": {},
   "outputs": [
    {
     "data": {
      "text/plain": [
       "(97, 32768)"
      ]
     },
     "execution_count": 3,
     "metadata": {},
     "output_type": "execute_result"
    }
   ],
   "source": [
    "import numpy as np\n",
    "\n",
    "np.shape(X)"
   ]
  },
  {
   "cell_type": "markdown",
   "metadata": {},
   "source": [
    "### CLUSTERING"
   ]
  },
  {
   "cell_type": "code",
   "execution_count": 4,
   "metadata": {},
   "outputs": [],
   "source": [
    "from sklearn_extra.cluster import KMedoids\n",
    "\n",
    "def closest_n_index(X, n_clusters=10):\n",
    "    kmedoids = KMedoids(n_clusters=n_clusters, random_state=0).fit(X)\n",
    "    return kmedoids.cluster_centers_, kmedoids.labels_"
   ]
  },
  {
   "cell_type": "code",
   "execution_count": 5,
   "metadata": {},
   "outputs": [],
   "source": [
    "indices_centers, labels = closest_n_index(X, n_clusters=5)"
   ]
  },
  {
   "cell_type": "code",
   "execution_count": 6,
   "metadata": {},
   "outputs": [
    {
     "data": {
      "text/plain": [
       "array([2, 3, 3, 0, 3, 3, 2, 2, 3, 3, 3, 2, 3, 2, 3, 3, 3, 3, 3, 2, 4, 4,\n",
       "       2, 0, 1, 0, 4, 0, 0, 3, 4, 1, 2, 4, 4, 4, 4, 4, 4, 1, 3, 3, 3, 3,\n",
       "       3, 2, 4, 1, 0, 1, 4, 4, 3, 1, 0, 4, 0, 4, 1, 2, 2, 3, 1, 3, 4, 4,\n",
       "       4, 4, 1, 2, 1, 3, 4, 2, 3, 3, 1, 2, 1, 0, 3, 3, 4, 3, 3, 3, 3, 2,\n",
       "       2, 3, 3, 4, 3, 3, 2, 3, 3], dtype=int64)"
      ]
     },
     "execution_count": 6,
     "metadata": {},
     "output_type": "execute_result"
    }
   ],
   "source": [
    "labels"
   ]
  },
  {
   "cell_type": "code",
   "execution_count": 7,
   "metadata": {},
   "outputs": [
    {
     "name": "stdout",
     "output_type": "stream",
     "text": [
      "Silhouette score of  0.0071815754142927485\n"
     ]
    }
   ],
   "source": [
    "from sklearn.metrics import silhouette_score as ss\n",
    "\n",
    "print(\"Silhouette score of \", ss(X, labels))"
   ]
  },
  {
   "cell_type": "code",
   "execution_count": 8,
   "metadata": {},
   "outputs": [
    {
     "data": {
      "text/plain": [
       "0     0\n",
       "1     0\n",
       "2     0\n",
       "3     0\n",
       "4     0\n",
       "     ..\n",
       "92    1\n",
       "93    1\n",
       "94    1\n",
       "95    1\n",
       "96    1\n",
       "Name: class, Length: 97, dtype: int64"
      ]
     },
     "execution_count": 8,
     "metadata": {},
     "output_type": "execute_result"
    }
   ],
   "source": [
    "y = df[\"class\"]\n",
    "y"
   ]
  },
  {
   "cell_type": "code",
   "execution_count": 9,
   "metadata": {},
   "outputs": [
    {
     "name": "stdout",
     "output_type": "stream",
     "text": [
      "Counter({3: 37, 4: 22, 2: 17, 1: 12, 0: 9})\n"
     ]
    }
   ],
   "source": [
    "from collections import Counter\n",
    "print(Counter(labels))"
   ]
  },
  {
   "cell_type": "code",
   "execution_count": 10,
   "metadata": {},
   "outputs": [],
   "source": [
    "classes_clusters = {}\n",
    "for index, item in enumerate(labels):\n",
    "    if item not in classes_clusters:\n",
    "        classes_clusters[item] = {0:0,1:0}\n",
    "    classes_clusters[item][y[index]] += 1"
   ]
  },
  {
   "cell_type": "code",
   "execution_count": 11,
   "metadata": {},
   "outputs": [
    {
     "data": {
      "text/plain": [
       "{2: {0: 12, 1: 5},\n",
       " 3: {0: 23, 1: 14},\n",
       " 0: {0: 8, 1: 1},\n",
       " 4: {0: 20, 1: 2},\n",
       " 1: {0: 10, 1: 2}}"
      ]
     },
     "execution_count": 11,
     "metadata": {},
     "output_type": "execute_result"
    }
   ],
   "source": [
    "classes_clusters"
   ]
  },
  {
   "cell_type": "code",
   "execution_count": null,
   "metadata": {},
   "outputs": [],
   "source": []
  }
 ],
 "metadata": {
  "kernelspec": {
   "display_name": "Python 3",
   "language": "python",
   "name": "python3"
  },
  "language_info": {
   "codemirror_mode": {
    "name": "ipython",
    "version": 3
   },
   "file_extension": ".py",
   "mimetype": "text/x-python",
   "name": "python",
   "nbconvert_exporter": "python",
   "pygments_lexer": "ipython3",
   "version": "3.8.5"
  }
 },
 "nbformat": 4,
 "nbformat_minor": 4
}
