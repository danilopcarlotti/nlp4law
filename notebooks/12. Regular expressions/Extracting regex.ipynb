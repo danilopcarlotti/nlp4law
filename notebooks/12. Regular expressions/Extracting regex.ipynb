{
 "cells": [
  {
   "cell_type": "code",
   "execution_count": 1,
   "metadata": {},
   "outputs": [],
   "source": [
    "from glob import glob\n",
    "from pathlib import Path\n",
    "\n",
    "import pandas as pd\n",
    "import re"
   ]
  },
  {
   "cell_type": "markdown",
   "metadata": {},
   "source": [
    "## LOAD PATTERNS"
   ]
  },
  {
   "cell_type": "code",
   "execution_count": 2,
   "metadata": {},
   "outputs": [],
   "source": [
    "df_patterns = pd.read_excel(Path().absolute().parent.parent/ \"data/patterns.xlsx\")"
   ]
  },
  {
   "cell_type": "code",
   "execution_count": 3,
   "metadata": {},
   "outputs": [],
   "source": [
    "dic_patterns = {d[\"name\"]:r\"{}\".format(d[\"expression\"]) for d in df_patterns.to_dict(\"records\")}"
   ]
  },
  {
   "cell_type": "markdown",
   "metadata": {},
   "source": [
    "## FILES TO EXTRACT REGULAR EXPRESSIONS FROM"
   ]
  },
  {
   "cell_type": "code",
   "execution_count": 5,
   "metadata": {},
   "outputs": [],
   "source": [
    "PATH_FILES = str(Path().absolute().parent.parent/ \"data/regular_expressions_mock_data\")\n",
    "files = glob(PATH_FILES + \"/**/Data*.xlsx\", recursive=True)"
   ]
  },
  {
   "cell_type": "markdown",
   "metadata": {},
   "source": [
    "## CREATING A BOOLEAN REPORT OF THE TEXTS"
   ]
  },
  {
   "cell_type": "code",
   "execution_count": 10,
   "metadata": {},
   "outputs": [],
   "source": [
    "COL_ID = \"court\"\n",
    "COL_TEXT = \"text\"\n",
    "NAME_REPORT = str(Path().absolute().parent.parent/ \"reports/mock_data_regex_court.xlsx\")"
   ]
  },
  {
   "cell_type": "code",
   "execution_count": 11,
   "metadata": {},
   "outputs": [],
   "source": [
    "dic_results = {}\n",
    "for f in files:\n",
    "    df_f = pd.read_excel(f)\n",
    "    for row in df_f.to_dict(\"records\"):\n",
    "        if row[COL_ID] not in dic_results:\n",
    "            dic_results[row[COL_ID]] = {k:0 for k in dic_patterns}\n",
    "        for name, exp in dic_patterns.items():\n",
    "            if re.search(exp, row[COL_TEXT], flags=re.I|re.S):\n",
    "                dic_results[row[COL_ID]][name] += 1"
   ]
  },
  {
   "cell_type": "code",
   "execution_count": 12,
   "metadata": {},
   "outputs": [],
   "source": [
    "rows = []\n",
    "for id_lawsuit, res in dic_results.items():\n",
    "    dic_aux = {COL_ID:id_lawsuit}\n",
    "    dic_aux.update(res)\n",
    "    rows.append(dic_aux)\n",
    "df_report = pd.DataFrame(rows)\n",
    "df_report.to_excel(NAME_REPORT, index=False)"
   ]
  }
 ],
 "metadata": {
  "kernelspec": {
   "display_name": "Python 3",
   "language": "python",
   "name": "python3"
  },
  "language_info": {
   "codemirror_mode": {
    "name": "ipython",
    "version": 3
   },
   "file_extension": ".py",
   "mimetype": "text/x-python",
   "name": "python",
   "nbconvert_exporter": "python",
   "pygments_lexer": "ipython3",
   "version": "3.8.5"
  }
 },
 "nbformat": 4,
 "nbformat_minor": 4
}
