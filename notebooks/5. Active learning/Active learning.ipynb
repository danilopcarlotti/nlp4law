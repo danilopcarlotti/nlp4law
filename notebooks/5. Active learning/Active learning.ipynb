{
 "cells": [
  {
   "cell_type": "code",
   "execution_count": 1,
   "metadata": {},
   "outputs": [],
   "source": [
    "from pathlib import Path\n",
    "\n",
    "import pickle\n",
    "import sys\n",
    "\n",
    "PATH_ROOT = Path().absolute().parent.parent\n",
    "\n",
    "sys.path.append(str(PATH_ROOT))\n",
    "\n",
    "from src.active_learning import active_learning"
   ]
  },
  {
   "cell_type": "markdown",
   "metadata": {},
   "source": [
    "### CREATE OR LOAD INSTANCE OF ACTIVE LEARNING CLASS"
   ]
  },
  {
   "cell_type": "code",
   "execution_count": 2,
   "metadata": {},
   "outputs": [],
   "source": [
    "al = active_learning(20, 5, 0.9, str(PATH_ROOT / \"models/active_learning\"))"
   ]
  },
  {
   "cell_type": "raw",
   "metadata": {},
   "source": [
    "al.current_model = pickle.load(open(PATH_ROOT / \"models/active_learning/active_learning_model.pkl\", \"rb\"))\n",
    "al.model_score = pickle.load(open(PATH_ROOT / \"models/active_learning/current_score.pkl\", \"rb\"))\n",
    "al.round = pickle.load(open(PATH_ROOT / \"models/active_learning/current_round.pkl\", \"rb\"))"
   ]
  },
  {
   "cell_type": "markdown",
   "metadata": {},
   "source": [
    "### INSERT DOCUMENTS"
   ]
  },
  {
   "cell_type": "code",
   "execution_count": 3,
   "metadata": {},
   "outputs": [],
   "source": [
    "al.insert_raw_texts(str(PATH_ROOT / \"data\"))"
   ]
  },
  {
   "cell_type": "markdown",
   "metadata": {},
   "source": [
    "### EXTRACT DOCUMENTS"
   ]
  },
  {
   "cell_type": "code",
   "execution_count": 4,
   "metadata": {},
   "outputs": [],
   "source": [
    "# first time\n",
    "al.find_N_documents()"
   ]
  },
  {
   "cell_type": "code",
   "execution_count": null,
   "metadata": {},
   "outputs": [],
   "source": [
    "# until model is done\n",
    "al.find_K_documents()"
   ]
  },
  {
   "cell_type": "markdown",
   "metadata": {},
   "source": [
    "### UPLOAD CLASSIFIED DOCUMENTS AND RETRAIN MODEL"
   ]
  },
  {
   "cell_type": "code",
   "execution_count": null,
   "metadata": {},
   "outputs": [],
   "source": [
    "al.manually_update_classification_retrain()"
   ]
  },
  {
   "cell_type": "code",
   "execution_count": null,
   "metadata": {},
   "outputs": [],
   "source": [
    "print(\"Mean accuracy is \", al.model_score)"
   ]
  },
  {
   "cell_type": "code",
   "execution_count": null,
   "metadata": {},
   "outputs": [],
   "source": [
    "print(\"That I should stop the model is \", al.stop_model_check())"
   ]
  },
  {
   "cell_type": "markdown",
   "metadata": {},
   "source": [
    "### DUMP INSTANCE"
   ]
  },
  {
   "cell_type": "code",
   "execution_count": null,
   "metadata": {},
   "outputs": [],
   "source": [
    "al.dump_model_score_round()"
   ]
  }
 ],
 "metadata": {
  "kernelspec": {
   "display_name": "Python 3",
   "language": "python",
   "name": "python3"
  },
  "language_info": {
   "codemirror_mode": {
    "name": "ipython",
    "version": 3
   },
   "file_extension": ".py",
   "mimetype": "text/x-python",
   "name": "python",
   "nbconvert_exporter": "python",
   "pygments_lexer": "ipython3",
   "version": "3.8.5"
  }
 },
 "nbformat": 4,
 "nbformat_minor": 4
}
