{
 "cells": [
  {
   "cell_type": "markdown",
   "metadata": {},
   "source": [
    "## LOAD DATA"
   ]
  },
  {
   "cell_type": "code",
   "execution_count": 1,
   "metadata": {},
   "outputs": [],
   "source": [
    "import pandas as pd\n",
    "from pathlib import Path\n",
    "\n",
    "df = pd.read_csv(Path().absolute().parent.parent / \"data/text_class.csv\")"
   ]
  },
  {
   "cell_type": "code",
   "execution_count": 2,
   "metadata": {},
   "outputs": [],
   "source": [
    "import sys\n",
    "\n",
    "sys.path.insert(0, str(Path().absolute().parent.parent))\n",
    "\n",
    "from src.text_vectorization import hashing_texts"
   ]
  },
  {
   "cell_type": "code",
   "execution_count": 3,
   "metadata": {},
   "outputs": [],
   "source": [
    "X = hashing_texts(df[\"text\"], 2**15)\n",
    "y = df[\"class\"]"
   ]
  },
  {
   "cell_type": "code",
   "execution_count": 4,
   "metadata": {},
   "outputs": [
    {
     "name": "stdout",
     "output_type": "stream",
     "text": [
      "Counter({0: 73, 1: 24})\n"
     ]
    }
   ],
   "source": [
    "from collections import Counter\n",
    "\n",
    "print(Counter(y))"
   ]
  },
  {
   "cell_type": "markdown",
   "metadata": {},
   "source": [
    "## CROSS VALIDATION"
   ]
  },
  {
   "cell_type": "code",
   "execution_count": 5,
   "metadata": {},
   "outputs": [],
   "source": [
    "from sklearn.ensemble import RandomForestClassifier\n",
    "from sklearn.linear_model import LogisticRegression\n",
    "from sklearn.ensemble import GradientBoostingClassifier\n",
    "from sklearn.ensemble import StackingClassifier\n",
    "from sklearn.metrics import confusion_matrix\n",
    "\n",
    "def stacking_clf():\n",
    "    estimators = [\n",
    "        (\"Random Forest\", RandomForestClassifier(random_state=42)),\n",
    "        (\"Logistic Regression\", LogisticRegression()),\n",
    "        (\"Gradient Boosting\", GradientBoostingClassifier(random_state=42)),\n",
    "    ]\n",
    "    stacking_classifier = StackingClassifier(\n",
    "        estimators=estimators, final_estimator=GradientBoostingClassifier(random_state=42)\n",
    "    )\n",
    "    return stacking_classifier"
   ]
  },
  {
   "cell_type": "code",
   "execution_count": 6,
   "metadata": {},
   "outputs": [],
   "source": [
    "from sklearn.model_selection import KFold\n",
    "from collections import Counter\n",
    "\n",
    "from imblearn.over_sampling import SMOTE\n",
    "\n",
    "kf = KFold(n_splits=5, random_state=42, shuffle=True)\n",
    "rows = []\n",
    "results_means = {}\n",
    "for name in [\"stacking_ensemble\", \"gradient_boosting\", \"logistic_regression\"]:\n",
    "    results_means[name] = {\n",
    "        \"model\":name,\n",
    "        \"SMOTE\":False,\n",
    "        \"sensitivity\":[],\n",
    "        \"specificity\":[],\n",
    "        \"precision\":[],\n",
    "    }\n",
    "results_means_SMOTE = {}\n",
    "for name in [\"stacking_ensemble\", \"gradient_boosting\", \"logistic_regression\"]:\n",
    "    results_means_SMOTE[name] = {\n",
    "        \"model\":name,\n",
    "        \"SMOTE\":True,\n",
    "        \"sensitivity\":[],\n",
    "        \"specificity\":[],\n",
    "        \"precision\":[],\n",
    "    }\n",
    "\n",
    "for train_index, test_index in kf.split(X):\n",
    "    X_train, X_test = X[train_index], X[test_index]\n",
    "    y_train, y_test = y[train_index], y[test_index]\n",
    "    oversample = SMOTE()\n",
    "    X_train_SMOTE, y_train_SMOTE = oversample.fit_resample(X_train, y_train)\n",
    "    for name, clf in [\n",
    "        (\"stacking_ensemble\", stacking_clf()),\n",
    "        (\"gradient_boosting\", GradientBoostingClassifier()),\n",
    "        (\"logistic_regression\", LogisticRegression()),\n",
    "    ]:\n",
    "        clf.fit(X_train, y_train)\n",
    "        y_pred = clf.predict(X_test)\n",
    "        tn, fp, fn, tp = confusion_matrix(y_test, y_pred).ravel()\n",
    "        sensitivity = tp / (fn + tp) if (fn + tp) else 0\n",
    "        specificity = tn / (tn + fp) if (tn + fp) else 0\n",
    "        precision = tp / (fp + tp) if (fp + tp) else 0\n",
    "        results_means[name][\"sensitivity\"].append(sensitivity)\n",
    "        results_means[name][\"specificity\"].append(specificity)\n",
    "        results_means[name][\"precision\"].append(precision)\n",
    "        clf.fit(X_train_SMOTE, y_train_SMOTE)\n",
    "        y_pred = clf.predict(X_test)\n",
    "        tn, fp, fn, tp = confusion_matrix(y_test, y_pred).ravel()\n",
    "        sensitivity = tp / (fn + tp) if (fn + tp) else 0\n",
    "        specificity = tn / (tn + fp) if (tn + fp) else 0\n",
    "        precision = tp / (fp + tp) if (fp + tp) else 0\n",
    "        results_means_SMOTE[name][\"sensitivity\"].append(sensitivity)\n",
    "        results_means_SMOTE[name][\"specificity\"].append(specificity)\n",
    "        results_means_SMOTE[name][\"precision\"].append(precision)"
   ]
  },
  {
   "cell_type": "code",
   "execution_count": 7,
   "metadata": {},
   "outputs": [],
   "source": [
    "import numpy as np\n",
    "\n",
    "rows = []\n",
    "for k,v in results_means.items():\n",
    "    for j,l in v.items():\n",
    "        if j in [\"sensitivity\",\"specificity\",\"precision\"]:\n",
    "            results_means[k][j] = np.mean(l)\n",
    "for k,v in results_means_SMOTE.items():\n",
    "    for j,l in v.items():\n",
    "        if j in [\"sensitivity\",\"specificity\",\"precision\"]:\n",
    "            results_means_SMOTE[k][j] = np.mean(l)\n",
    "rows.extend(list(results_means.values()))\n",
    "rows.extend(list(results_means_SMOTE.values()))"
   ]
  },
  {
   "cell_type": "code",
   "execution_count": 8,
   "metadata": {},
   "outputs": [
    {
     "name": "stdout",
     "output_type": "stream",
     "text": [
      "Predictions\n"
     ]
    }
   ],
   "source": [
    "print(\"Predictions\")\n",
    "df_results = pd.DataFrame(rows)\n",
    "df_results.to_csv(\"results_cross_validation.csv\", index=False)"
   ]
  },
  {
   "cell_type": "code",
   "execution_count": null,
   "metadata": {},
   "outputs": [],
   "source": []
  }
 ],
 "metadata": {
  "kernelspec": {
   "display_name": "Python 3",
   "language": "python",
   "name": "python3"
  },
  "language_info": {
   "codemirror_mode": {
    "name": "ipython",
    "version": 3
   },
   "file_extension": ".py",
   "mimetype": "text/x-python",
   "name": "python",
   "nbconvert_exporter": "python",
   "pygments_lexer": "ipython3",
   "version": "3.8.5"
  }
 },
 "nbformat": 4,
 "nbformat_minor": 4
}
