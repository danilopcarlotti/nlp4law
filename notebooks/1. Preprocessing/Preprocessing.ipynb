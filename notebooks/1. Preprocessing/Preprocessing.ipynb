{
 "cells": [
  {
   "cell_type": "markdown",
   "metadata": {},
   "source": [
    "# PREPROCESSING"
   ]
  },
  {
   "cell_type": "markdown",
   "metadata": {},
   "source": [
    "- This function changes the text removing all punctuation and special characters in the words. This is a first step to normalize the text"
   ]
  },
  {
   "cell_type": "code",
   "execution_count": 1,
   "metadata": {},
   "outputs": [],
   "source": [
    "def remove_accents(text):\n",
    "    accents = {\n",
    "        \"Á\": \"A\",\"Ã\": \"A\",\"À\": \"A\",\"á\": \"a\",\"ã\": \"a\",\"à\": \"a\",\n",
    "        \"É\": \"E\",\"é\": \"e\",\"Ê\": \"E\",\"ê\": \"e\",\"Í\": \"I\",\"í\": \"i\",\n",
    "        \"Ó\": \"O\",\"ó\": \"o\",\"Õ\": \"O\",\"õ\": \"o\",\"Ô\": \"O\",\"ô\": \"o\",\n",
    "        \"Ú\": \"U\",\"ú\": \"u\",\";\": \"\",\",\": \"\",\"/\": \"\",\"\\\\\": \"\",\n",
    "        \"{\": \"\",\"}\": \"\",\"(\": \"\",\")\": \"\",\"-\": \"\",\"_\": \"\",\"Ç\":\"C\",\n",
    "        \"ç\":\"c\",\n",
    "    }\n",
    "    text = str(text)\n",
    "    for k, v in accents.items():\n",
    "        text = text.replace(k, v)\n",
    "    return text"
   ]
  },
  {
   "cell_type": "code",
   "execution_count": 2,
   "metadata": {},
   "outputs": [
    {
     "ename": "NameError",
     "evalue": "name 'texto' is not defined",
     "output_type": "error",
     "traceback": [
      "\u001b[1;31m---------------------------------------------------------------------------\u001b[0m",
      "\u001b[1;31mNameError\u001b[0m                                 Traceback (most recent call last)",
      "\u001b[1;32m<ipython-input-2-2a1d238307bf>\u001b[0m in \u001b[0;36m<module>\u001b[1;34m\u001b[0m\n\u001b[0;32m      1\u001b[0m \u001b[0mtest_str\u001b[0m \u001b[1;33m=\u001b[0m \u001b[1;34m\"Açaí é uma delícia\"\u001b[0m\u001b[1;33m\u001b[0m\u001b[1;33m\u001b[0m\u001b[0m\n\u001b[1;32m----> 2\u001b[1;33m \u001b[0mprint\u001b[0m\u001b[1;33m(\u001b[0m\u001b[0mremove_accents\u001b[0m\u001b[1;33m(\u001b[0m\u001b[0mtest_str\u001b[0m\u001b[1;33m)\u001b[0m\u001b[1;33m)\u001b[0m\u001b[1;33m\u001b[0m\u001b[1;33m\u001b[0m\u001b[0m\n\u001b[0m",
      "\u001b[1;32m<ipython-input-1-9f34e447c35c>\u001b[0m in \u001b[0;36mremove_accents\u001b[1;34m(text)\u001b[0m\n\u001b[0;32m     11\u001b[0m     \u001b[1;32mfor\u001b[0m \u001b[0mk\u001b[0m\u001b[1;33m,\u001b[0m \u001b[0mv\u001b[0m \u001b[1;32min\u001b[0m \u001b[0maccents\u001b[0m\u001b[1;33m.\u001b[0m\u001b[0mitems\u001b[0m\u001b[1;33m(\u001b[0m\u001b[1;33m)\u001b[0m\u001b[1;33m:\u001b[0m\u001b[1;33m\u001b[0m\u001b[1;33m\u001b[0m\u001b[0m\n\u001b[0;32m     12\u001b[0m         \u001b[0mtext\u001b[0m \u001b[1;33m=\u001b[0m \u001b[0mtext\u001b[0m\u001b[1;33m.\u001b[0m\u001b[0mreplace\u001b[0m\u001b[1;33m(\u001b[0m\u001b[0mk\u001b[0m\u001b[1;33m,\u001b[0m \u001b[0mv\u001b[0m\u001b[1;33m)\u001b[0m\u001b[1;33m\u001b[0m\u001b[1;33m\u001b[0m\u001b[0m\n\u001b[1;32m---> 13\u001b[1;33m     \u001b[1;32mreturn\u001b[0m \u001b[0mtexto\u001b[0m\u001b[1;33m\u001b[0m\u001b[1;33m\u001b[0m\u001b[0m\n\u001b[0m",
      "\u001b[1;31mNameError\u001b[0m: name 'texto' is not defined"
     ]
    }
   ],
   "source": [
    "test_str = \"Açaí é uma delícia\"\n",
    "print(remove_accents(test_str))"
   ]
  },
  {
   "cell_type": "markdown",
   "metadata": {},
   "source": [
    "### STEPS IN THE TRANSFORMATION OF A TEXT\n",
    "\n",
    "1. Transform text to lowercase\n",
    "2. Remove all accents and other special characters\n",
    "3. Tokenize text, transforming it in a list of tokens\n",
    "4. Remove all tokens that are not of interest\n",
    "5. If selected, stem the tokens\n",
    "6. Return a list of tokens"
   ]
  },
  {
   "cell_type": "code",
   "execution_count": null,
   "metadata": {},
   "outputs": [],
   "source": [
    "from nltk.tokenize import RegexpTokenizer\n",
    "import nltk\n",
    "\n",
    "stemmer = nltk.stem.RSLPStemmer()\n",
    "\n",
    "def normalize_texts(texts, to_stem=False):\n",
    "    normal_texts = []\n",
    "    tk = RegexpTokenizer(r\"\\w+\")\n",
    "    stopwords = set(nltk.corpus.stopwords.words(\"portuguese\"))\n",
    "    for t in texts:\n",
    "        raw_text = remove_accents(t.lower()) # steps 1 and 2\n",
    "        tokens = tk.tokenize(raw_text) # step 3\n",
    "        processed_text = []\n",
    "        for tkn in tokens:\n",
    "            if tkn.isalpha() and tkn not in stopwords and len(tkn) > 3: # step 4\n",
    "                if to_stem:\n",
    "                    tkn = stemmer.stem(tkn) # step 5\n",
    "                processed_text.append(tkn)\n",
    "        normal_texts.append(processed_text)\n",
    "    return normal_texts"
   ]
  },
  {
   "cell_type": "code",
   "execution_count": null,
   "metadata": {},
   "outputs": [],
   "source": [
    "print(normalize_texts([test_str]))"
   ]
  },
  {
   "cell_type": "code",
   "execution_count": null,
   "metadata": {},
   "outputs": [],
   "source": []
  }
 ],
 "metadata": {
  "kernelspec": {
   "display_name": "Python 3",
   "language": "python",
   "name": "python3"
  },
  "language_info": {
   "codemirror_mode": {
    "name": "ipython",
    "version": 3
   },
   "file_extension": ".py",
   "mimetype": "text/x-python",
   "name": "python",
   "nbconvert_exporter": "python",
   "pygments_lexer": "ipython3",
   "version": "3.8.5"
  }
 },
 "nbformat": 4,
 "nbformat_minor": 4
}
