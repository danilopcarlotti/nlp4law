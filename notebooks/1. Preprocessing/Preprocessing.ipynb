{
 "cells": [
  {
   "cell_type": "markdown",
   "metadata": {},
   "source": [
    "# PREPROCESSING"
   ]
  },
  {
   "cell_type": "markdown",
   "metadata": {},
   "source": [
    "- This function changes the text removing all punctuation and special characters in the words. This is a first step to normalize the text"
   ]
  },
  {
   "cell_type": "code",
   "execution_count": null,
   "metadata": {},
   "outputs": [],
   "source": [
    "def remove_accents(text):\n",
    "    accents = {\n",
    "        \"Á\": \"A\",\"Ã\": \"A\",\"À\": \"A\",\"á\": \"a\",\"ã\": \"a\",\"à\": \"a\",\n",
    "        \"É\": \"E\",\"é\": \"e\",\"Ê\": \"E\",\"ê\": \"e\",\"Í\": \"I\",\"í\": \"i\",\n",
    "        \"Ó\": \"O\",\"ó\": \"o\",\"Õ\": \"O\",\"õ\": \"o\",\"Ô\": \"O\",\"ô\": \"o\",\n",
    "        \"Ú\": \"U\",\"ú\": \"u\",\";\": \"\",\",\": \"\",\"/\": \"\",\"\\\\\": \"\",\n",
    "        \"{\": \"\",\"}\": \"\",\"(\": \"\",\")\": \"\",\"-\": \"\",\"_\": \"\",\"Ç\":\"C\",\n",
    "        \"ç\":\"c\",\n",
    "    }\n",
    "    text = str(text)\n",
    "    for k, v in accents.items():\n",
    "        text = text.replace(k, v)\n",
    "    return text"
   ]
  },
  {
   "cell_type": "code",
   "execution_count": null,
   "metadata": {},
   "outputs": [],
   "source": [
    "test_str = \"Açaí é uma delícia\"\n",
    "print(remove_accents(test_str))"
   ]
  },
  {
   "cell_type": "markdown",
   "metadata": {},
   "source": [
    "### STEPS IN THE TRANSFORMATION OF A TEXT\n",
    "\n",
    "1. Transform text to lowercase\n",
    "2. Remove all accents and other special characters\n",
    "3. Tokenize text, transforming it in a list of tokens\n",
    "4. Remove all tokens that are not of interest\n",
    "5. If selected, stem the tokens\n",
    "6. Return a list of tokens"
   ]
  },
  {
   "cell_type": "code",
   "execution_count": 3,
   "metadata": {},
   "outputs": [],
   "source": [
    "from nltk.tokenize import RegexpTokenizer\n",
    "import nltk\n",
    "\n",
    "stemmer = nltk.stem.RSLPStemmer()\n",
    "\n",
    "def normalize_texts(texts, to_stem=False):\n",
    "    normal_texts = []\n",
    "    tk = RegexpTokenizer(r\"\\w+\")\n",
    "    stopwords = set(nltk.corpus.stopwords.words(\"portuguese\"))\n",
    "    for t in texts:\n",
    "        raw_text = remove_accents(t.lower()) # steps 1 and 2\n",
    "        tokens = tk.tokenize(raw_text) # step 3\n",
    "        processed_text = []\n",
    "        for tkn in tokens:\n",
    "            if tkn.isalpha() and tkn not in stopwords and len(tkn) > 3: # step 4\n",
    "                if to_stem:\n",
    "                    tkn = stemmer.stem(tkn) # step 5\n",
    "                processed_text.append(tkn)\n",
    "        normal_texts.append(processed_text)\n",
    "    return normal_texts"
   ]
  },
  {
   "cell_type": "code",
   "execution_count": 4,
   "metadata": {},
   "outputs": [
    {
     "name": "stdout",
     "output_type": "stream",
     "text": [
      "[['acai', 'delicia']]\n"
     ]
    }
   ],
   "source": [
    "print(normalize_texts([test_str]))"
   ]
  },
  {
   "cell_type": "code",
   "execution_count": null,
   "metadata": {},
   "outputs": [],
   "source": []
  }
 ],
 "metadata": {
  "kernelspec": {
   "display_name": "Python 3",
   "language": "python",
   "name": "python3"
  },
  "language_info": {
   "codemirror_mode": {
    "name": "ipython",
    "version": 3
   },
   "file_extension": ".py",
   "mimetype": "text/x-python",
   "name": "python",
   "nbconvert_exporter": "python",
   "pygments_lexer": "ipython3",
   "version": "3.8.5"
  }
 },
 "nbformat": 4,
 "nbformat_minor": 4
}
