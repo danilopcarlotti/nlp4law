{
 "cells": [
  {
   "cell_type": "markdown",
   "metadata": {},
   "source": [
    "# TEXT VECTORIZATION\n",
    "\n",
    "- This is the process of transforming a text in a vector\n",
    "- I present two algorithms:\n",
    " - TFIDF\n",
    " - Hashing"
   ]
  },
  {
   "cell_type": "code",
   "execution_count": 1,
   "metadata": {},
   "outputs": [],
   "source": [
    "corpus = [\n",
    "    \"comprovada estabilidade e permanencia de grupo voltado a mercancia de drogas, cabivel e o enquadramento no crime de associacao para o trafico\",\n",
    "    \"a periculosidade do paciente, evidenciada pela acentuada quantidade de droga apreendida e fundamento idôneo para a decretacao de prisao\",\n",
    "    \"a mera quantidade da droga ou insumo, ainda que elevada, por si so, nao legitima o afastamento do redutor previsto no art. 33\",\n",
    "]"
   ]
  },
  {
   "cell_type": "markdown",
   "metadata": {},
   "source": [
    "### TFIDF\n",
    "\n",
    "- The vector for each text is the size of the corpus\n",
    "- It is possible to vary the size of the ngrams adjusting the parameter ngram_range\n",
    "- The corpus must fit in the RAM memory of the computer"
   ]
  },
  {
   "cell_type": "code",
   "execution_count": 2,
   "metadata": {},
   "outputs": [
    {
     "name": "stdout",
     "output_type": "stream",
     "text": [
      "First ten words found  ['33', 'acentuada', 'afastamento', 'ainda', 'apreendida', 'art', 'associacao', 'cabivel', 'comprovada', 'crime']\n",
      "Matrix shape  (3, 45)\n"
     ]
    }
   ],
   "source": [
    "from sklearn.feature_extraction.text import TfidfVectorizer\n",
    "\n",
    "vectorizer_tfidf = TfidfVectorizer(ngram_range=(1,1))\n",
    "X_tfidf = vectorizer_tfidf.fit_transform(corpus)\n",
    "print(\"First ten words found \", vectorizer_tfidf.get_feature_names()[:10])\n",
    "print(\"Matrix shape \", X_tfidf.shape)"
   ]
  },
  {
   "cell_type": "code",
   "execution_count": 12,
   "metadata": {},
   "outputs": [
    {
     "data": {
      "text/plain": [
       "array([0.        , 0.        , 0.        , 0.        , 0.        ,\n",
       "       0.        , 0.2333648 , 0.2333648 , 0.2333648 , 0.2333648 ,\n",
       "       0.        , 0.53243984, 0.        , 0.        , 0.        ,\n",
       "       0.2333648 , 0.        , 0.2333648 , 0.2333648 , 0.        ,\n",
       "       0.        , 0.2333648 , 0.        , 0.        , 0.        ,\n",
       "       0.        , 0.2333648 , 0.        , 0.17747995, 0.        ,\n",
       "       0.        , 0.17747995, 0.        , 0.        , 0.2333648 ,\n",
       "       0.        , 0.        , 0.        , 0.        , 0.        ,\n",
       "       0.        , 0.        , 0.        , 0.2333648 , 0.2333648 ])"
      ]
     },
     "execution_count": 12,
     "metadata": {},
     "output_type": "execute_result"
    }
   ],
   "source": [
    "X_tfidf.toarray()[0]"
   ]
  },
  {
   "cell_type": "markdown",
   "metadata": {},
   "source": [
    "### HASHING\n",
    "\n",
    "- The size of the vector is fixed and predetermined by the user. I suggest between 2^12 and 2^15\n",
    "- It is possible to vary the size of the ngrams adjusting the parameter ngram_range\n",
    "- The vectorizer doesn't need to be fitted with the corpus"
   ]
  },
  {
   "cell_type": "code",
   "execution_count": 4,
   "metadata": {},
   "outputs": [
    {
     "name": "stdout",
     "output_type": "stream",
     "text": [
      "Matrix shape  (3, 4096)\n"
     ]
    }
   ],
   "source": [
    "from sklearn.feature_extraction.text import HashingVectorizer\n",
    "\n",
    "n_features = 2**12\n",
    "vectorizer_hash = HashingVectorizer(n_features=n_features, ngram_range=(1, 1))\n",
    "X_hash = vectorizer_hash.fit_transform(corpus)\n",
    "print(\"Matrix shape \", X_hash.shape)"
   ]
  },
  {
   "cell_type": "code",
   "execution_count": 14,
   "metadata": {},
   "outputs": [
    {
     "data": {
      "text/plain": [
       "array([0., 0., 0., 0., 0., 0., 0., 0., 0., 0., 0., 0., 0., 0., 0., 0., 0.,\n",
       "       0., 0., 0., 0., 0., 0., 0., 0., 0., 0., 0., 0., 0., 0., 0., 0., 0.,\n",
       "       0., 0., 0., 0., 0., 0., 0., 0., 0., 0., 0., 0., 0., 0., 0., 0., 0.,\n",
       "       0., 0., 0., 0., 0., 0., 0., 0., 0., 0., 0., 0., 0., 0., 0., 0., 0.,\n",
       "       0., 0., 0., 0., 0., 0., 0., 0., 0., 0., 0., 0., 0., 0., 0., 0., 0.,\n",
       "       0., 0., 0., 0., 0., 0., 0., 0., 0., 0., 0., 0., 0., 0., 0.])"
      ]
     },
     "execution_count": 14,
     "metadata": {},
     "output_type": "execute_result"
    }
   ],
   "source": [
    "X_hash.toarray()[0][:100]"
   ]
  },
  {
   "cell_type": "code",
   "execution_count": null,
   "metadata": {},
   "outputs": [],
   "source": []
  }
 ],
 "metadata": {
  "kernelspec": {
   "display_name": "Python 3",
   "language": "python",
   "name": "python3"
  },
  "language_info": {
   "codemirror_mode": {
    "name": "ipython",
    "version": 3
   },
   "file_extension": ".py",
   "mimetype": "text/x-python",
   "name": "python",
   "nbconvert_exporter": "python",
   "pygments_lexer": "ipython3",
   "version": "3.8.5"
  }
 },
 "nbformat": 4,
 "nbformat_minor": 4
}
