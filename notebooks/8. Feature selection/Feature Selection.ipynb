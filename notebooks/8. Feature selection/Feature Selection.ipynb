{
 "cells": [
  {
   "cell_type": "markdown",
   "metadata": {},
   "source": [
    "## LOAD DATA"
   ]
  },
  {
   "cell_type": "code",
   "execution_count": 1,
   "metadata": {},
   "outputs": [],
   "source": [
    "from pathlib import Path\n",
    "from sklearn.feature_extraction.text import TfidfVectorizer\n",
    "from sklearn.feature_extraction.text import HashingVectorizer\n",
    "\n",
    "import sys\n",
    "\n",
    "sys.path.insert(0, str(Path().absolute().parent.parent))\n",
    "from src.text_normalization import normalize_texts\n",
    "\n",
    "\n",
    "def tfidf_texts(texts, ngram_range=(1, 2)):\n",
    "    corpus = normalize_texts(texts)\n",
    "    vectorizer = TfidfVectorizer(ngram_range=ngram_range).fit(corpus)\n",
    "    return (vectorizer, vectorizer.transform(corpus).toarray())"
   ]
  },
  {
   "cell_type": "code",
   "execution_count": 2,
   "metadata": {},
   "outputs": [],
   "source": [
    "vectorizer, X = tfidf_texts([\n",
    "    \"My name is Danilo Carlotti\",\n",
    "    \"My name is Danilo Carlotti\",\n",
    "    \"My name is Danilo Carlotti\",\n",
    "    \"My name is Danilo Carlotti\",\n",
    "    \"My name is Danilo Carlotti\",\n",
    "    \"Call me Ishmael\",\n",
    "    \"Call me Ishmael\",\n",
    "    \"Call me Ishmael\",\n",
    "    \"Call me Ishmael\",\n",
    "    \"Call me Ishmael\",\n",
    "])\n",
    "y = [1,1,1,1,1,0,0,0,0,0]"
   ]
  },
  {
   "cell_type": "code",
   "execution_count": 3,
   "metadata": {},
   "outputs": [],
   "source": [
    "from sklearn.linear_model import LogisticRegression\n",
    "from sklearn.model_selection import train_test_split\n",
    "\n",
    "def train_model(X, y):\n",
    "    rows = []\n",
    "    clf = LogisticRegression(penalty=\"l1\", solver=\"liblinear\")\n",
    "    X_train, X_test, y_train, y_test = train_test_split(X, y, random_state=0)\n",
    "    clf.fit(X_train, y_train)\n",
    "    return clf\n",
    "\n",
    "def words_interest_log_reg(vectorizer, classifier):\n",
    "    var_names = vectorizer.get_feature_names()\n",
    "    variables_of_interest = []\n",
    "    for beta in range(len(classifier.coef_[0])):\n",
    "        if classifier.coef_[0][beta]:\n",
    "            variables_of_interest.append((classifier.coef_[0][beta], var_names[beta]))\n",
    "    variables_of_interest.sort()\n",
    "    return variables_of_interest"
   ]
  },
  {
   "cell_type": "code",
   "execution_count": 4,
   "metadata": {},
   "outputs": [],
   "source": [
    "clf = train_model(X, y)"
   ]
  },
  {
   "cell_type": "code",
   "execution_count": 5,
   "metadata": {},
   "outputs": [
    {
     "name": "stdout",
     "output_type": "stream",
     "text": [
      "[(-0.4669083544366757, 'call'), (-1.393551940505316e-12, 'ishmael')]\n"
     ]
    }
   ],
   "source": [
    "print(words_interest_log_reg(vectorizer, clf))"
   ]
  }
 ],
 "metadata": {
  "kernelspec": {
   "display_name": "Python 3",
   "language": "python",
   "name": "python3"
  },
  "language_info": {
   "codemirror_mode": {
    "name": "ipython",
    "version": 3
   },
   "file_extension": ".py",
   "mimetype": "text/x-python",
   "name": "python",
   "nbconvert_exporter": "python",
   "pygments_lexer": "ipython3",
   "version": "3.8.5"
  }
 },
 "nbformat": 4,
 "nbformat_minor": 4
}
