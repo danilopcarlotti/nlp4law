{
 "cells": [
  {
   "cell_type": "code",
   "execution_count": 1,
   "metadata": {},
   "outputs": [],
   "source": [
    "import numpy as np\n",
    "import random"
   ]
  },
  {
   "cell_type": "code",
   "execution_count": 2,
   "metadata": {},
   "outputs": [],
   "source": [
    "mu, sigma = 1, 0.1\n",
    "distribution = list(mu + sigma * np.random.randn(100))\n",
    "distribution.append(200)\n",
    "distribution.append(1000)"
   ]
  },
  {
   "cell_type": "code",
   "execution_count": 4,
   "metadata": {},
   "outputs": [
    {
     "data": {
      "image/png": "[encoded data removed]",
      "text/plain": [
       "<Figure size 432x288 with 1 Axes>"
      ]
     },
     "metadata": {
      "needs_background": "light"
     },
     "output_type": "display_data"
    }
   ],
   "source": [
    "import matplotlib.pyplot as plt\n",
    "\n",
    "plt.hist(distribution[:-2], 50, density=True, facecolor='g', alpha=0.75)\n",
    "plt.show()"
   ]
  },
  {
   "cell_type": "markdown",
   "metadata": {},
   "source": [
    "## Standard deviation and mean"
   ]
  },
  {
   "cell_type": "code",
   "execution_count": 5,
   "metadata": {},
   "outputs": [
    {
     "name": "stdout",
     "output_type": "stream",
     "text": [
      "Mean  12.741650565018094\n",
      "STD  100.17340233606288\n"
     ]
    }
   ],
   "source": [
    "print(\"Mean \",np.mean(distribution))\n",
    "print(\"STD \",np.std(distribution))"
   ]
  },
  {
   "cell_type": "code",
   "execution_count": 6,
   "metadata": {},
   "outputs": [],
   "source": [
    "def select_outliers_std(distribution):\n",
    "    mean = np.mean(distribution)\n",
    "    std = np.std(distribution)\n",
    "    list_outliers = []\n",
    "    for i in distribution:\n",
    "        if i > (mean+(3*std)) or i < (mean-(3*std)):\n",
    "            list_outliers.append(i)\n",
    "    return list_outliers"
   ]
  },
  {
   "cell_type": "code",
   "execution_count": 7,
   "metadata": {},
   "outputs": [
    {
     "data": {
      "text/plain": [
       "[1000]"
      ]
     },
     "execution_count": 7,
     "metadata": {},
     "output_type": "execute_result"
    }
   ],
   "source": [
    "select_outliers_std(distribution)"
   ]
  },
  {
   "cell_type": "markdown",
   "metadata": {},
   "source": [
    "## IQR Rule"
   ]
  },
  {
   "cell_type": "code",
   "execution_count": 8,
   "metadata": {},
   "outputs": [],
   "source": [
    "def select_outliers(distribution):\n",
    "    median_data = np.median(distribution)\n",
    "    Q1 = np.percentile(distribution, 25, interpolation=\"midpoint\")\n",
    "    Q3 = np.percentile(distribution, 75, interpolation=\"midpoint\")\n",
    "    IQR = Q3 - Q1\n",
    "    list_outliers = []\n",
    "    for v in distribution:\n",
    "        if v > (median_data + (1.5 * IQR)) or v < (median_data - (1.5 * IQR)):\n",
    "            list_outliers.append(v)\n",
    "    return list_outliers"
   ]
  },
  {
   "cell_type": "code",
   "execution_count": 9,
   "metadata": {},
   "outputs": [
    {
     "data": {
      "text/plain": [
       "[1.275383690392951, 200, 1000]"
      ]
     },
     "execution_count": 9,
     "metadata": {},
     "output_type": "execute_result"
    }
   ],
   "source": [
    "list_res = select_outliers(distribution)\n",
    "list_res.sort()\n",
    "list_res"
   ]
  }
 ],
 "metadata": {
  "kernelspec": {
   "display_name": "Python 3",
   "language": "python",
   "name": "python3"
  },
  "language_info": {
   "codemirror_mode": {
    "name": "ipython",
    "version": 3
   },
   "file_extension": ".py",
   "mimetype": "text/x-python",
   "name": "python",
   "nbconvert_exporter": "python",
   "pygments_lexer": "ipython3",
   "version": "3.8.5"
  }
 },
 "nbformat": 4,
 "nbformat_minor": 4
}
