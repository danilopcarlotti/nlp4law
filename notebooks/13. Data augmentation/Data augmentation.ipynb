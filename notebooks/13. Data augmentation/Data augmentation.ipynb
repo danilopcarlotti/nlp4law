{
 "cells": [
  {
   "cell_type": "markdown",
   "metadata": {},
   "source": [
    "## OBJECTIVE"
   ]
  },
  {
   "cell_type": "markdown",
   "metadata": {},
   "source": [
    "We present here two methods of data augmentation for working with portuguese texts, that could be used with any other language. If using english, for example, the idea is to translate the text to some other language and then back to english.\n",
    "\n",
    "The goal is to increment the dataset with artificially created texts to create new examples of the least sampled class. This should be done only in the training dataset."
   ]
  },
  {
   "cell_type": "raw",
   "metadata": {},
   "source": [
    "!pip install googletrans==4.0.0-rc1"
   ]
  },
  {
   "cell_type": "code",
   "execution_count": 1,
   "metadata": {},
   "outputs": [],
   "source": [
    "import pandas as pd\n",
    "from googletrans import Translator"
   ]
  },
  {
   "cell_type": "code",
   "execution_count": 2,
   "metadata": {},
   "outputs": [],
   "source": [
    "MOTHER_LANGUAGE = \"pt\"\n",
    "TRANSLATED_LANGUAGE = \"en\""
   ]
  },
  {
   "cell_type": "code",
   "execution_count": 3,
   "metadata": {},
   "outputs": [],
   "source": [
    "def create_texts_from_translation(df, class_col=\"class\", text_col=\"text\"):\n",
    "    \"\"\"\n",
    "        Input: DataFrame with a binary 'class' column and a 'text' column\n",
    "        Output: An augmented DataFrame\n",
    "    \"\"\"\n",
    "    class_distribution = df[class_col].mean()\n",
    "    if class_distribution == 0.5:\n",
    "        raise Exception(\"Data augmentation not necessary for balanced class\")\n",
    "    augmented_class = 1 if class_distribution < 0.5 else 0\n",
    "    number_new_texts = len(df[df[class_col] != augmented_class]) - len(df[df[class_col] == augmented_class])\n",
    "    aux = number_new_texts\n",
    "    new_rows = []\n",
    "    translator = Translator()\n",
    "    while aux > 0:\n",
    "        for row in df.to_dict(\"records\"):\n",
    "            new_rows.append({\n",
    "                text_col:translator.translate(translator.translate(row[text_col], src=MOTHER_LANGUAGE, dest=TRANSLATED_LANGUAGE).text, src=TRANSLATED_LANGUAGE, dest=MOTHER_LANGUAGE).text,\n",
    "                class_col:augmented_class,\n",
    "            })\n",
    "            aux -= 1\n",
    "            if aux == 0:\n",
    "                break\n",
    "    df_aux = pd.DataFrame(new_rows)\n",
    "    return pd.concat([df, df_aux])"
   ]
  },
  {
   "cell_type": "markdown",
   "metadata": {},
   "source": [
    "### EXAMPLE"
   ]
  },
  {
   "cell_type": "code",
   "execution_count": 4,
   "metadata": {},
   "outputs": [],
   "source": [
    "example_df = pd.DataFrame([\n",
    "    {\"text\":\"Esta lei é inconstitucional\",\"class\":0},\n",
    "    {\"text\":\"A inconstitucionalidade é flagrante\",\"class\":0},\n",
    "    {\"text\":\"Esta lei desrespeita a constituição federal\",\"class\":0},\n",
    "    {\"text\":\"A lei inconstitucional não pode ser aplicada\",\"class\":0},\n",
    "    {\"text\":\"Esta lei foi declarada inconstitucional\",\"class\":0},\n",
    "    {\"text\":\"O dispositivo legislativo foi revogado\",\"class\":0},\n",
    "    {\"text\":\"O juiz optou por não aplicar a lei\",\"class\":0},\n",
    "    {\"text\":\"A lei é constitucional\",\"class\":1},\n",
    "    {\"text\":\"O juiz optou por aplicar a lei\",\"class\":1},\n",
    "    {\"text\":\"A lei foi declarada constitucional pelo tribunal\",\"class\":1},\n",
    "])"
   ]
  },
  {
   "cell_type": "code",
   "execution_count": 5,
   "metadata": {},
   "outputs": [],
   "source": [
    "example_df_augmented = create_texts_from_translation(example_df)"
   ]
  },
  {
   "cell_type": "code",
   "execution_count": 6,
   "metadata": {},
   "outputs": [
    {
     "name": "stdout",
     "output_type": "stream",
     "text": [
      "{'text': 'Esta lei é inconstitucional', 'class': 0}\n",
      "{'text': 'A inconstitucionalidade é flagrante', 'class': 0}\n",
      "{'text': 'Esta lei desrespeita a constituição federal', 'class': 0}\n",
      "{'text': 'A lei inconstitucional não pode ser aplicada', 'class': 0}\n",
      "{'text': 'Esta lei foi declarada inconstitucional', 'class': 0}\n",
      "{'text': 'O dispositivo legislativo foi revogado', 'class': 0}\n",
      "{'text': 'O juiz optou por não aplicar a lei', 'class': 0}\n",
      "{'text': 'A lei é constitucional', 'class': 1}\n",
      "{'text': 'O juiz optou por aplicar a lei', 'class': 1}\n",
      "{'text': 'A lei foi declarada constitucional pelo tribunal', 'class': 1}\n",
      "{'text': 'Esta lei é inconstitucional', 'class': 1}\n",
      "{'text': 'A inconstitucionalidade é flagrante', 'class': 1}\n",
      "{'text': 'Esta lei desrespeita a Constituição Federal', 'class': 1}\n",
      "{'text': 'A lei inconstitucional não pode ser aplicada', 'class': 1}\n"
     ]
    }
   ],
   "source": [
    "for row in example_df_augmented.to_dict(\"records\"):\n",
    "    print(row)"
   ]
  }
 ],
 "metadata": {
  "kernelspec": {
   "display_name": "Python 3",
   "language": "python",
   "name": "python3"
  },
  "language_info": {
   "codemirror_mode": {
    "name": "ipython",
    "version": 3
   },
   "file_extension": ".py",
   "mimetype": "text/x-python",
   "name": "python",
   "nbconvert_exporter": "python",
   "pygments_lexer": "ipython3",
   "version": "3.8.5"
  }
 },
 "nbformat": 4,
 "nbformat_minor": 4
}
